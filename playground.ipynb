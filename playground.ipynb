{
 "cells": [
  {
   "cell_type": "code",
   "outputs": [
    {
     "data": {
      "text/plain": "178"
     },
     "execution_count": 1,
     "metadata": {},
     "output_type": "execute_result"
    }
   ],
   "source": [
    "import pandas as pd\n",
    "\n",
    "uses = pd.read_csv('datasets/naeb_dump/uses.csv')\n",
    "use_subcategory = pd.read_csv('datasets/naeb_dump/use_subcategories.csv')\n",
    "\n",
    "use_subcategory['name'].nunique()"
   ],
   "metadata": {
    "collapsed": false,
    "ExecuteTime": {
     "end_time": "2024-06-09T20:18:13.998419Z",
     "start_time": "2024-06-09T20:18:07.311442Z"
    }
   },
   "id": "972682a76fc3ec0d",
   "execution_count": 1
  },
  {
   "cell_type": "code",
   "outputs": [
    {
     "data": {
      "text/plain": "       use_id  species_id  tribe_id  source_id  use_subcategory_id       name\n36         45           2        38          4                   6  Analgesic\n69         79           2       138         51                   6  Analgesic\n200       214           6        23         26                   6  Analgesic\n385       409          20       106         60                   6  Analgesic\n576       606          32        32          1                   6  Analgesic\n...       ...         ...       ...        ...                 ...        ...\n41151   44596        4250       183         12                   6  Analgesic\n41165   44610        4251        90         68                   6  Analgesic\n41183   44628        4253       159         18                   6  Analgesic\n41208   44656        4256       139         21                   6  Analgesic\n41221   44669        4258       193         11                   6  Analgesic\n\n[1292 rows x 6 columns]",
      "text/html": "<div>\n<style scoped>\n    .dataframe tbody tr th:only-of-type {\n        vertical-align: middle;\n    }\n\n    .dataframe tbody tr th {\n        vertical-align: top;\n    }\n\n    .dataframe thead th {\n        text-align: right;\n    }\n</style>\n<table border=\"1\" class=\"dataframe\">\n  <thead>\n    <tr style=\"text-align: right;\">\n      <th></th>\n      <th>use_id</th>\n      <th>species_id</th>\n      <th>tribe_id</th>\n      <th>source_id</th>\n      <th>use_subcategory_id</th>\n      <th>name</th>\n    </tr>\n  </thead>\n  <tbody>\n    <tr>\n      <th>36</th>\n      <td>45</td>\n      <td>2</td>\n      <td>38</td>\n      <td>4</td>\n      <td>6</td>\n      <td>Analgesic</td>\n    </tr>\n    <tr>\n      <th>69</th>\n      <td>79</td>\n      <td>2</td>\n      <td>138</td>\n      <td>51</td>\n      <td>6</td>\n      <td>Analgesic</td>\n    </tr>\n    <tr>\n      <th>200</th>\n      <td>214</td>\n      <td>6</td>\n      <td>23</td>\n      <td>26</td>\n      <td>6</td>\n      <td>Analgesic</td>\n    </tr>\n    <tr>\n      <th>385</th>\n      <td>409</td>\n      <td>20</td>\n      <td>106</td>\n      <td>60</td>\n      <td>6</td>\n      <td>Analgesic</td>\n    </tr>\n    <tr>\n      <th>576</th>\n      <td>606</td>\n      <td>32</td>\n      <td>32</td>\n      <td>1</td>\n      <td>6</td>\n      <td>Analgesic</td>\n    </tr>\n    <tr>\n      <th>...</th>\n      <td>...</td>\n      <td>...</td>\n      <td>...</td>\n      <td>...</td>\n      <td>...</td>\n      <td>...</td>\n    </tr>\n    <tr>\n      <th>41151</th>\n      <td>44596</td>\n      <td>4250</td>\n      <td>183</td>\n      <td>12</td>\n      <td>6</td>\n      <td>Analgesic</td>\n    </tr>\n    <tr>\n      <th>41165</th>\n      <td>44610</td>\n      <td>4251</td>\n      <td>90</td>\n      <td>68</td>\n      <td>6</td>\n      <td>Analgesic</td>\n    </tr>\n    <tr>\n      <th>41183</th>\n      <td>44628</td>\n      <td>4253</td>\n      <td>159</td>\n      <td>18</td>\n      <td>6</td>\n      <td>Analgesic</td>\n    </tr>\n    <tr>\n      <th>41208</th>\n      <td>44656</td>\n      <td>4256</td>\n      <td>139</td>\n      <td>21</td>\n      <td>6</td>\n      <td>Analgesic</td>\n    </tr>\n    <tr>\n      <th>41221</th>\n      <td>44669</td>\n      <td>4258</td>\n      <td>193</td>\n      <td>11</td>\n      <td>6</td>\n      <td>Analgesic</td>\n    </tr>\n  </tbody>\n</table>\n<p>1292 rows × 6 columns</p>\n</div>"
     },
     "execution_count": 164,
     "metadata": {},
     "output_type": "execute_result"
    }
   ],
   "source": [
    "# join uses to use_subcategory by using the use_subcategory in uses as the key to join\n",
    "merged = uses.merge(use_subcategory, left_on='use_subcategory', right_on='id')\n",
    "\n",
    "# remove the columns: pageno, use_category, notes, rawsource, parent:\n",
    "merged = merged.drop(columns=['pageno', 'use_category', 'notes', 'rawsource', 'parent', 'use_subcategory'])\n",
    "\n",
    "# rename the columns: id_x, id_y, to: use_id, use_subcategory_id\n",
    "usage = merged.rename(columns={\n",
    "    'id_x': 'use_id', \n",
    "    'id_y': 'use_subcategory_id', \n",
    "    'species': 'species_id',\n",
    "    'tribe': 'tribe_id',\n",
    "    'source': 'source_id',\n",
    "}) \n",
    "\n",
    "usage[usage['name'] == 'Analgesic']"
   ],
   "metadata": {
    "collapsed": false,
    "ExecuteTime": {
     "end_time": "2024-06-09T14:01:11.729328Z",
     "start_time": "2024-06-09T14:01:11.675044Z"
    }
   },
   "id": "6df3fc6a265a2143",
   "execution_count": 164
  },
  {
   "cell_type": "code",
   "outputs": [
    {
     "data": {
      "text/plain": "      species_id                  name        common_names       family  \\\n0              1        Abies amabilis  Pacific Silver Fir     Pinaceae   \n1              2        Abies balsamea          Balsam Fir     Pinaceae   \n2              3        Abies concolor           White Fir     Pinaceae   \n3              4         Abies fraseri        Fraser's Fir     Pinaceae   \n4              5         Abies grandis           Grand Fir     Pinaceae   \n...          ...                   ...                 ...          ...   \n4255        4256           Zizia aurea        Golden Zizia     Apiaceae   \n4256        4257  Ziziphus obtusifolia            Lotebush   Rhamnaceae   \n4257        4258  Ziziphus obtusifolia            Lotebush   Rhamnaceae   \n4258        4259       Ziziphus parryi      Parry's Jujube   Rhamnaceae   \n4259        4260        Zostera marina            Seawrack  Zosteraceae   \n\n       family_apg  \n0        Pinaceae  \n1        Pinaceae  \n2        Pinaceae  \n3        Pinaceae  \n4        Pinaceae  \n...           ...  \n4255     Apiaceae  \n4256   Rhamnaceae  \n4257   Rhamnaceae  \n4258   Rhamnaceae  \n4259  Zosteraceae  \n\n[4260 rows x 5 columns]",
      "text/html": "<div>\n<style scoped>\n    .dataframe tbody tr th:only-of-type {\n        vertical-align: middle;\n    }\n\n    .dataframe tbody tr th {\n        vertical-align: top;\n    }\n\n    .dataframe thead th {\n        text-align: right;\n    }\n</style>\n<table border=\"1\" class=\"dataframe\">\n  <thead>\n    <tr style=\"text-align: right;\">\n      <th></th>\n      <th>species_id</th>\n      <th>name</th>\n      <th>common_names</th>\n      <th>family</th>\n      <th>family_apg</th>\n    </tr>\n  </thead>\n  <tbody>\n    <tr>\n      <th>0</th>\n      <td>1</td>\n      <td>Abies amabilis</td>\n      <td>Pacific Silver Fir</td>\n      <td>Pinaceae</td>\n      <td>Pinaceae</td>\n    </tr>\n    <tr>\n      <th>1</th>\n      <td>2</td>\n      <td>Abies balsamea</td>\n      <td>Balsam Fir</td>\n      <td>Pinaceae</td>\n      <td>Pinaceae</td>\n    </tr>\n    <tr>\n      <th>2</th>\n      <td>3</td>\n      <td>Abies concolor</td>\n      <td>White Fir</td>\n      <td>Pinaceae</td>\n      <td>Pinaceae</td>\n    </tr>\n    <tr>\n      <th>3</th>\n      <td>4</td>\n      <td>Abies fraseri</td>\n      <td>Fraser's Fir</td>\n      <td>Pinaceae</td>\n      <td>Pinaceae</td>\n    </tr>\n    <tr>\n      <th>4</th>\n      <td>5</td>\n      <td>Abies grandis</td>\n      <td>Grand Fir</td>\n      <td>Pinaceae</td>\n      <td>Pinaceae</td>\n    </tr>\n    <tr>\n      <th>...</th>\n      <td>...</td>\n      <td>...</td>\n      <td>...</td>\n      <td>...</td>\n      <td>...</td>\n    </tr>\n    <tr>\n      <th>4255</th>\n      <td>4256</td>\n      <td>Zizia aurea</td>\n      <td>Golden Zizia</td>\n      <td>Apiaceae</td>\n      <td>Apiaceae</td>\n    </tr>\n    <tr>\n      <th>4256</th>\n      <td>4257</td>\n      <td>Ziziphus obtusifolia</td>\n      <td>Lotebush</td>\n      <td>Rhamnaceae</td>\n      <td>Rhamnaceae</td>\n    </tr>\n    <tr>\n      <th>4257</th>\n      <td>4258</td>\n      <td>Ziziphus obtusifolia</td>\n      <td>Lotebush</td>\n      <td>Rhamnaceae</td>\n      <td>Rhamnaceae</td>\n    </tr>\n    <tr>\n      <th>4258</th>\n      <td>4259</td>\n      <td>Ziziphus parryi</td>\n      <td>Parry's Jujube</td>\n      <td>Rhamnaceae</td>\n      <td>Rhamnaceae</td>\n    </tr>\n    <tr>\n      <th>4259</th>\n      <td>4260</td>\n      <td>Zostera marina</td>\n      <td>Seawrack</td>\n      <td>Zosteraceae</td>\n      <td>Zosteraceae</td>\n    </tr>\n  </tbody>\n</table>\n<p>4260 rows × 5 columns</p>\n</div>"
     },
     "execution_count": 165,
     "metadata": {},
     "output_type": "execute_result"
    }
   ],
   "source": [
    "species = pd.read_csv('datasets/naeb_dump/species.csv')\n",
    "# drop columns usda_code:\n",
    "species = species.drop(columns=['usda_code'])\n",
    "# rename id to species_id\n",
    "species = species.rename(columns={'id': 'species_id'})\n",
    "# in the column name, take only the first 2 words in each row:\n",
    "species['name'] = species['name'].apply(lambda x: ' '.join(x.split()[:2]))\n",
    "\n",
    "species"
   ],
   "metadata": {
    "collapsed": false,
    "ExecuteTime": {
     "end_time": "2024-06-09T14:02:36.862370Z",
     "start_time": "2024-06-09T14:02:36.794569Z"
    }
   },
   "id": "9d4e7e8e06e112f9",
   "execution_count": 165
  },
  {
   "cell_type": "code",
   "outputs": [
    {
     "data": {
      "text/plain": "     source_id refcode       type                                 author  \\\n0            1    hc75       book  Hamel, Paul B. and Mary U. Chiltoskey   \n1            2    ws85       book   Weber, Steven A. and P. David Seaman   \n2            3     g83  phdthesis                        Gill, Steven J.   \n3            4     d28    article                      Densmore, Frances   \n4            5     r54       book                     Romero, John Bruno   \n..         ...     ...        ...                                    ...   \n201        202     b36    article                       Bradley, Will T.   \n202        203     r23    article                            Radin, Paul   \n203        204     w89    article                         Willoughby, C.   \n204        205     p37       book                         Porsild, A. E.   \n205        206     m40    article                   Mandelbaum, David G.   \n\n    booktitle comment edition editor  \\\n0         NaN     NaN     NaN    NaN   \n1         NaN     NaN     NaN    NaN   \n2         NaN     NaN     NaN    NaN   \n3         NaN     NaN     NaN    NaN   \n4         NaN     NaN     NaN    NaN   \n..        ...     ...     ...    ...   \n201       NaN     NaN     NaN    NaN   \n202       NaN     NaN     NaN    NaN   \n203       NaN     NaN     NaN    NaN   \n204       NaN     NaN     NaN    NaN   \n205       NaN     NaN     NaN    NaN   \n\n                                               journal month note  number  \\\n0                                                  NaN   NaN  NaN     NaN   \n1                                                  NaN   NaN  NaN     NaN   \n2                                                  NaN   NaN  NaN     NaN   \n3                                 SI-BAE Annual Report   NaN  NaN     NaN   \n4                                                  NaN   NaN  NaN     NaN   \n..                                                 ...   ...  ...     ...   \n201  Journal of the American Pharmaceutical Associa...   NaN  NaN     2.0   \n202                               SI-BAE Annual Report   NaN  NaN     NaN   \n203     Smithsonian Institution Annual Report for 1886   NaN  NaN     NaN   \n204                                                NaN   NaN  NaN     NaN   \n205  Anthropological Papers of the American Museum ...   NaN  NaN     NaN   \n\n       pages                                          publisher  \\\n0        NaN                               Herald Publishing Co   \n1        NaN                    The University of Arizona Press   \n2        NaN                                                NaN   \n3    273-379                                                NaN   \n4        NaN                                 Vantage Press, Inc   \n..       ...                                                ...   \n201  138-147                                                NaN   \n202      NaN                                                NaN   \n203      NaN                                                NaN   \n204      NaN  Canada Department of Mines and Resources, Nati...   \n205  202-203                                                NaN   \n\n                                                 title  url volume  year  \n0    Cherokee Plants and Their Uses -- A 400 Year H...  NaN    NaN  1975  \n1    Havasupai Habitat: A.F. Whiting's Ethnography ...  NaN    NaN  1985  \n2           Ethnobotany of the Makah and Ozette People  NaN    NaN  1983  \n3               Uses of Plants by the Chippewa Indians  NaN     44  1928  \n4         The Botanical Lore of the California Indians  NaN    NaN  1954  \n..                                                 ...  ...    ...   ...  \n201    Medical Practices of the New England Aborigines  NaN     25  1936  \n202                                The Winnebago Tribe  NaN     37  1923  \n203  Indians of the Quinaielt Agency, Washington Te...  NaN    NaN  1889  \n204        Edible Roots and Berries of Northern Canada  NaN    NaN  1937  \n205                                    The Plains Cree  NaN     37  1940  \n\n[206 rows x 18 columns]",
      "text/html": "<div>\n<style scoped>\n    .dataframe tbody tr th:only-of-type {\n        vertical-align: middle;\n    }\n\n    .dataframe tbody tr th {\n        vertical-align: top;\n    }\n\n    .dataframe thead th {\n        text-align: right;\n    }\n</style>\n<table border=\"1\" class=\"dataframe\">\n  <thead>\n    <tr style=\"text-align: right;\">\n      <th></th>\n      <th>source_id</th>\n      <th>refcode</th>\n      <th>type</th>\n      <th>author</th>\n      <th>booktitle</th>\n      <th>comment</th>\n      <th>edition</th>\n      <th>editor</th>\n      <th>journal</th>\n      <th>month</th>\n      <th>note</th>\n      <th>number</th>\n      <th>pages</th>\n      <th>publisher</th>\n      <th>title</th>\n      <th>url</th>\n      <th>volume</th>\n      <th>year</th>\n    </tr>\n  </thead>\n  <tbody>\n    <tr>\n      <th>0</th>\n      <td>1</td>\n      <td>hc75</td>\n      <td>book</td>\n      <td>Hamel, Paul B. and Mary U. Chiltoskey</td>\n      <td>NaN</td>\n      <td>NaN</td>\n      <td>NaN</td>\n      <td>NaN</td>\n      <td>NaN</td>\n      <td>NaN</td>\n      <td>NaN</td>\n      <td>NaN</td>\n      <td>NaN</td>\n      <td>Herald Publishing Co</td>\n      <td>Cherokee Plants and Their Uses -- A 400 Year H...</td>\n      <td>NaN</td>\n      <td>NaN</td>\n      <td>1975</td>\n    </tr>\n    <tr>\n      <th>1</th>\n      <td>2</td>\n      <td>ws85</td>\n      <td>book</td>\n      <td>Weber, Steven A. and P. David Seaman</td>\n      <td>NaN</td>\n      <td>NaN</td>\n      <td>NaN</td>\n      <td>NaN</td>\n      <td>NaN</td>\n      <td>NaN</td>\n      <td>NaN</td>\n      <td>NaN</td>\n      <td>NaN</td>\n      <td>The University of Arizona Press</td>\n      <td>Havasupai Habitat: A.F. Whiting's Ethnography ...</td>\n      <td>NaN</td>\n      <td>NaN</td>\n      <td>1985</td>\n    </tr>\n    <tr>\n      <th>2</th>\n      <td>3</td>\n      <td>g83</td>\n      <td>phdthesis</td>\n      <td>Gill, Steven J.</td>\n      <td>NaN</td>\n      <td>NaN</td>\n      <td>NaN</td>\n      <td>NaN</td>\n      <td>NaN</td>\n      <td>NaN</td>\n      <td>NaN</td>\n      <td>NaN</td>\n      <td>NaN</td>\n      <td>NaN</td>\n      <td>Ethnobotany of the Makah and Ozette People</td>\n      <td>NaN</td>\n      <td>NaN</td>\n      <td>1983</td>\n    </tr>\n    <tr>\n      <th>3</th>\n      <td>4</td>\n      <td>d28</td>\n      <td>article</td>\n      <td>Densmore, Frances</td>\n      <td>NaN</td>\n      <td>NaN</td>\n      <td>NaN</td>\n      <td>NaN</td>\n      <td>SI-BAE Annual Report</td>\n      <td>NaN</td>\n      <td>NaN</td>\n      <td>NaN</td>\n      <td>273-379</td>\n      <td>NaN</td>\n      <td>Uses of Plants by the Chippewa Indians</td>\n      <td>NaN</td>\n      <td>44</td>\n      <td>1928</td>\n    </tr>\n    <tr>\n      <th>4</th>\n      <td>5</td>\n      <td>r54</td>\n      <td>book</td>\n      <td>Romero, John Bruno</td>\n      <td>NaN</td>\n      <td>NaN</td>\n      <td>NaN</td>\n      <td>NaN</td>\n      <td>NaN</td>\n      <td>NaN</td>\n      <td>NaN</td>\n      <td>NaN</td>\n      <td>NaN</td>\n      <td>Vantage Press, Inc</td>\n      <td>The Botanical Lore of the California Indians</td>\n      <td>NaN</td>\n      <td>NaN</td>\n      <td>1954</td>\n    </tr>\n    <tr>\n      <th>...</th>\n      <td>...</td>\n      <td>...</td>\n      <td>...</td>\n      <td>...</td>\n      <td>...</td>\n      <td>...</td>\n      <td>...</td>\n      <td>...</td>\n      <td>...</td>\n      <td>...</td>\n      <td>...</td>\n      <td>...</td>\n      <td>...</td>\n      <td>...</td>\n      <td>...</td>\n      <td>...</td>\n      <td>...</td>\n      <td>...</td>\n    </tr>\n    <tr>\n      <th>201</th>\n      <td>202</td>\n      <td>b36</td>\n      <td>article</td>\n      <td>Bradley, Will T.</td>\n      <td>NaN</td>\n      <td>NaN</td>\n      <td>NaN</td>\n      <td>NaN</td>\n      <td>Journal of the American Pharmaceutical Associa...</td>\n      <td>NaN</td>\n      <td>NaN</td>\n      <td>2.0</td>\n      <td>138-147</td>\n      <td>NaN</td>\n      <td>Medical Practices of the New England Aborigines</td>\n      <td>NaN</td>\n      <td>25</td>\n      <td>1936</td>\n    </tr>\n    <tr>\n      <th>202</th>\n      <td>203</td>\n      <td>r23</td>\n      <td>article</td>\n      <td>Radin, Paul</td>\n      <td>NaN</td>\n      <td>NaN</td>\n      <td>NaN</td>\n      <td>NaN</td>\n      <td>SI-BAE Annual Report</td>\n      <td>NaN</td>\n      <td>NaN</td>\n      <td>NaN</td>\n      <td>NaN</td>\n      <td>NaN</td>\n      <td>The Winnebago Tribe</td>\n      <td>NaN</td>\n      <td>37</td>\n      <td>1923</td>\n    </tr>\n    <tr>\n      <th>203</th>\n      <td>204</td>\n      <td>w89</td>\n      <td>article</td>\n      <td>Willoughby, C.</td>\n      <td>NaN</td>\n      <td>NaN</td>\n      <td>NaN</td>\n      <td>NaN</td>\n      <td>Smithsonian Institution Annual Report for 1886</td>\n      <td>NaN</td>\n      <td>NaN</td>\n      <td>NaN</td>\n      <td>NaN</td>\n      <td>NaN</td>\n      <td>Indians of the Quinaielt Agency, Washington Te...</td>\n      <td>NaN</td>\n      <td>NaN</td>\n      <td>1889</td>\n    </tr>\n    <tr>\n      <th>204</th>\n      <td>205</td>\n      <td>p37</td>\n      <td>book</td>\n      <td>Porsild, A. E.</td>\n      <td>NaN</td>\n      <td>NaN</td>\n      <td>NaN</td>\n      <td>NaN</td>\n      <td>NaN</td>\n      <td>NaN</td>\n      <td>NaN</td>\n      <td>NaN</td>\n      <td>NaN</td>\n      <td>Canada Department of Mines and Resources, Nati...</td>\n      <td>Edible Roots and Berries of Northern Canada</td>\n      <td>NaN</td>\n      <td>NaN</td>\n      <td>1937</td>\n    </tr>\n    <tr>\n      <th>205</th>\n      <td>206</td>\n      <td>m40</td>\n      <td>article</td>\n      <td>Mandelbaum, David G.</td>\n      <td>NaN</td>\n      <td>NaN</td>\n      <td>NaN</td>\n      <td>NaN</td>\n      <td>Anthropological Papers of the American Museum ...</td>\n      <td>NaN</td>\n      <td>NaN</td>\n      <td>NaN</td>\n      <td>202-203</td>\n      <td>NaN</td>\n      <td>The Plains Cree</td>\n      <td>NaN</td>\n      <td>37</td>\n      <td>1940</td>\n    </tr>\n  </tbody>\n</table>\n<p>206 rows × 18 columns</p>\n</div>"
     },
     "execution_count": 81,
     "metadata": {},
     "output_type": "execute_result"
    }
   ],
   "source": [
    "sources = pd.read_csv('datasets/naeb_dump/sources.csv')\n",
    "# drop the columns: fulltext, address, school\n",
    "sources = sources.drop(columns=['fulltext', 'address', 'school'])\n",
    "# rename id to source_id\n",
    "sources = sources.rename(columns={'id': 'source_id'})\n",
    "sources"
   ],
   "metadata": {
    "collapsed": false,
    "ExecuteTime": {
     "end_time": "2024-06-07T13:20:14.884992Z",
     "start_time": "2024-06-07T13:20:14.823101Z"
    }
   },
   "id": "bec39e6861e05c4d",
   "execution_count": 81
  },
  {
   "cell_type": "code",
   "outputs": [
    {
     "data": {
      "text/plain": "          org_id                                           org_name  \\\n0       NPO10475                            Falkenbergia rufolanosa   \n1        NPO2250                               Hylocomium splendens   \n2       NPO21185                                      Manica rubida   \n3       NPO13272                                       Ulva lactuca   \n4        NPO9728                                      Quercus acuta   \n...          ...                                                ...   \n25893  NPO8650.3  Perilla frutescens (l.) britt. var. crispa (th...   \n25894   NPO25964                              Amsinckia lycopsoides   \n25895   NPO23989                              Cyclamen neapolitanum   \n25896    NPO8723                               Ophiostoma piliferum   \n25897   NPO21631                                Faramea salicifolia   \n\n      org_tax_level org_tax_id subspecies_tax_id  \\\n0              n.a.       n.a.              n.a.   \n1           Species      53007              n.a.   \n2           Species     219785              n.a.   \n3           Species      63410              n.a.   \n4           Species     157796              n.a.   \n...             ...        ...               ...   \n25893     Varieties       n.a.              n.a.   \n25894       Species    1212517              n.a.   \n25895       Species       n.a.              n.a.   \n25896       Species      38032              n.a.   \n25897       Species       n.a.              n.a.   \n\n                                         subspecies_name species_tax_id  \\\n0                                                   n.a.           n.a.   \n1                                                   n.a.          53007   \n2                                                   n.a.         219785   \n3                                                   n.a.          63410   \n4                                                   n.a.         157796   \n...                                                  ...            ...   \n25893  perilla frutescens (l.) britt. var. acuta (thu...          48386   \n25894                                               n.a.        1212517   \n25895                                               n.a.           n.a.   \n25896                                               n.a.          38032   \n25897                                               n.a.           n.a.   \n\n                species_name genus_tax_id  genus_name family_tax_id  \\\n0                       n.a.         n.a.        n.a.          n.a.   \n1       Hylocomium splendens        53006  Hylocomium         28466   \n2              Manica rubida       219784      Manica         36668   \n3               Ulva lactuca         3118        Ulva          3114   \n4              Quercus acuta         3511     Quercus          3503   \n...                      ...          ...         ...           ...   \n25893     Perilla frutescens        48385     Perilla          4136   \n25894  Amsinckia lycopsoides       255583   Amsinckia         21571   \n25895                   n.a.        59973    Cyclamen          4335   \n25896   Ophiostoma piliferum         5159  Ophiostoma          5152   \n25897                   n.a.        58420     Faramea         24966   \n\n            family_name kingdom_tax_id   kingdom_name superkingdom_tax_id  \\\n0                  n.a.           n.a.           n.a.                n.a.   \n1         Hylocomiaceae          33090  Viridiplantae                2759   \n2            Formicidae          33208        Metazoa                2759   \n3              Ulvaceae          33090  Viridiplantae                2759   \n4              Fagaceae          33090  Viridiplantae                2759   \n...                 ...            ...            ...                 ...   \n25893         Lamiaceae          33090  Viridiplantae                2759   \n25894      Boraginaceae          33090  Viridiplantae                2759   \n25895       Primulaceae          33090  Viridiplantae                2759   \n25896  Ophiostomataceae           4751          Fungi                2759   \n25897         Rubiaceae          33090  Viridiplantae                2759   \n\n      superkingdom_name  \n0                  n.a.  \n1             Eukaryota  \n2             Eukaryota  \n3             Eukaryota  \n4             Eukaryota  \n...                 ...  \n25893         Eukaryota  \n25894         Eukaryota  \n25895         Eukaryota  \n25896         Eukaryota  \n25897         Eukaryota  \n\n[25898 rows x 16 columns]",
      "text/html": "<div>\n<style scoped>\n    .dataframe tbody tr th:only-of-type {\n        vertical-align: middle;\n    }\n\n    .dataframe tbody tr th {\n        vertical-align: top;\n    }\n\n    .dataframe thead th {\n        text-align: right;\n    }\n</style>\n<table border=\"1\" class=\"dataframe\">\n  <thead>\n    <tr style=\"text-align: right;\">\n      <th></th>\n      <th>org_id</th>\n      <th>org_name</th>\n      <th>org_tax_level</th>\n      <th>org_tax_id</th>\n      <th>subspecies_tax_id</th>\n      <th>subspecies_name</th>\n      <th>species_tax_id</th>\n      <th>species_name</th>\n      <th>genus_tax_id</th>\n      <th>genus_name</th>\n      <th>family_tax_id</th>\n      <th>family_name</th>\n      <th>kingdom_tax_id</th>\n      <th>kingdom_name</th>\n      <th>superkingdom_tax_id</th>\n      <th>superkingdom_name</th>\n    </tr>\n  </thead>\n  <tbody>\n    <tr>\n      <th>0</th>\n      <td>NPO10475</td>\n      <td>Falkenbergia rufolanosa</td>\n      <td>n.a.</td>\n      <td>n.a.</td>\n      <td>n.a.</td>\n      <td>n.a.</td>\n      <td>n.a.</td>\n      <td>n.a.</td>\n      <td>n.a.</td>\n      <td>n.a.</td>\n      <td>n.a.</td>\n      <td>n.a.</td>\n      <td>n.a.</td>\n      <td>n.a.</td>\n      <td>n.a.</td>\n      <td>n.a.</td>\n    </tr>\n    <tr>\n      <th>1</th>\n      <td>NPO2250</td>\n      <td>Hylocomium splendens</td>\n      <td>Species</td>\n      <td>53007</td>\n      <td>n.a.</td>\n      <td>n.a.</td>\n      <td>53007</td>\n      <td>Hylocomium splendens</td>\n      <td>53006</td>\n      <td>Hylocomium</td>\n      <td>28466</td>\n      <td>Hylocomiaceae</td>\n      <td>33090</td>\n      <td>Viridiplantae</td>\n      <td>2759</td>\n      <td>Eukaryota</td>\n    </tr>\n    <tr>\n      <th>2</th>\n      <td>NPO21185</td>\n      <td>Manica rubida</td>\n      <td>Species</td>\n      <td>219785</td>\n      <td>n.a.</td>\n      <td>n.a.</td>\n      <td>219785</td>\n      <td>Manica rubida</td>\n      <td>219784</td>\n      <td>Manica</td>\n      <td>36668</td>\n      <td>Formicidae</td>\n      <td>33208</td>\n      <td>Metazoa</td>\n      <td>2759</td>\n      <td>Eukaryota</td>\n    </tr>\n    <tr>\n      <th>3</th>\n      <td>NPO13272</td>\n      <td>Ulva lactuca</td>\n      <td>Species</td>\n      <td>63410</td>\n      <td>n.a.</td>\n      <td>n.a.</td>\n      <td>63410</td>\n      <td>Ulva lactuca</td>\n      <td>3118</td>\n      <td>Ulva</td>\n      <td>3114</td>\n      <td>Ulvaceae</td>\n      <td>33090</td>\n      <td>Viridiplantae</td>\n      <td>2759</td>\n      <td>Eukaryota</td>\n    </tr>\n    <tr>\n      <th>4</th>\n      <td>NPO9728</td>\n      <td>Quercus acuta</td>\n      <td>Species</td>\n      <td>157796</td>\n      <td>n.a.</td>\n      <td>n.a.</td>\n      <td>157796</td>\n      <td>Quercus acuta</td>\n      <td>3511</td>\n      <td>Quercus</td>\n      <td>3503</td>\n      <td>Fagaceae</td>\n      <td>33090</td>\n      <td>Viridiplantae</td>\n      <td>2759</td>\n      <td>Eukaryota</td>\n    </tr>\n    <tr>\n      <th>...</th>\n      <td>...</td>\n      <td>...</td>\n      <td>...</td>\n      <td>...</td>\n      <td>...</td>\n      <td>...</td>\n      <td>...</td>\n      <td>...</td>\n      <td>...</td>\n      <td>...</td>\n      <td>...</td>\n      <td>...</td>\n      <td>...</td>\n      <td>...</td>\n      <td>...</td>\n      <td>...</td>\n    </tr>\n    <tr>\n      <th>25893</th>\n      <td>NPO8650.3</td>\n      <td>Perilla frutescens (l.) britt. var. crispa (th...</td>\n      <td>Varieties</td>\n      <td>n.a.</td>\n      <td>n.a.</td>\n      <td>perilla frutescens (l.) britt. var. acuta (thu...</td>\n      <td>48386</td>\n      <td>Perilla frutescens</td>\n      <td>48385</td>\n      <td>Perilla</td>\n      <td>4136</td>\n      <td>Lamiaceae</td>\n      <td>33090</td>\n      <td>Viridiplantae</td>\n      <td>2759</td>\n      <td>Eukaryota</td>\n    </tr>\n    <tr>\n      <th>25894</th>\n      <td>NPO25964</td>\n      <td>Amsinckia lycopsoides</td>\n      <td>Species</td>\n      <td>1212517</td>\n      <td>n.a.</td>\n      <td>n.a.</td>\n      <td>1212517</td>\n      <td>Amsinckia lycopsoides</td>\n      <td>255583</td>\n      <td>Amsinckia</td>\n      <td>21571</td>\n      <td>Boraginaceae</td>\n      <td>33090</td>\n      <td>Viridiplantae</td>\n      <td>2759</td>\n      <td>Eukaryota</td>\n    </tr>\n    <tr>\n      <th>25895</th>\n      <td>NPO23989</td>\n      <td>Cyclamen neapolitanum</td>\n      <td>Species</td>\n      <td>n.a.</td>\n      <td>n.a.</td>\n      <td>n.a.</td>\n      <td>n.a.</td>\n      <td>n.a.</td>\n      <td>59973</td>\n      <td>Cyclamen</td>\n      <td>4335</td>\n      <td>Primulaceae</td>\n      <td>33090</td>\n      <td>Viridiplantae</td>\n      <td>2759</td>\n      <td>Eukaryota</td>\n    </tr>\n    <tr>\n      <th>25896</th>\n      <td>NPO8723</td>\n      <td>Ophiostoma piliferum</td>\n      <td>Species</td>\n      <td>38032</td>\n      <td>n.a.</td>\n      <td>n.a.</td>\n      <td>38032</td>\n      <td>Ophiostoma piliferum</td>\n      <td>5159</td>\n      <td>Ophiostoma</td>\n      <td>5152</td>\n      <td>Ophiostomataceae</td>\n      <td>4751</td>\n      <td>Fungi</td>\n      <td>2759</td>\n      <td>Eukaryota</td>\n    </tr>\n    <tr>\n      <th>25897</th>\n      <td>NPO21631</td>\n      <td>Faramea salicifolia</td>\n      <td>Species</td>\n      <td>n.a.</td>\n      <td>n.a.</td>\n      <td>n.a.</td>\n      <td>n.a.</td>\n      <td>n.a.</td>\n      <td>58420</td>\n      <td>Faramea</td>\n      <td>24966</td>\n      <td>Rubiaceae</td>\n      <td>33090</td>\n      <td>Viridiplantae</td>\n      <td>2759</td>\n      <td>Eukaryota</td>\n    </tr>\n  </tbody>\n</table>\n<p>25898 rows × 16 columns</p>\n</div>"
     },
     "execution_count": 161,
     "metadata": {},
     "output_type": "execute_result"
    }
   ],
   "source": [
    "np_species = pd.read_csv('datasets/npass/NPASS_taxonomy_species.txt', sep='\\t')\n",
    "np_species"
   ],
   "metadata": {
    "collapsed": false,
    "ExecuteTime": {
     "end_time": "2024-06-09T13:10:12.600566Z",
     "start_time": "2024-06-09T13:10:12.460509Z"
    }
   },
   "id": "58931dcbf10cda30",
   "execution_count": 161
  },
  {
   "cell_type": "code",
   "outputs": [
    {
     "data": {
      "text/plain": "               src_org_pair     org_id      np_id new_cp_found  \\\n0        NPO27288-NPC251357   NPO27288  NPC251357         n.a.   \n1         NPO8589-NPC116013    NPO8589  NPC116013            N   \n2            NPO14625-NPC39   NPO14625      NPC39         n.a.   \n3        NPO16590-NPC190457   NPO16590  NPC190457         n.a.   \n4          NPO6861-NPC13143    NPO6861   NPC13143         n.a.   \n...                     ...        ...        ...          ...   \n898571  NPO7576.2-NPC491368  NPO7576.2  NPC491368           No   \n898572  NPO7576.2-NPC491377  NPO7576.2  NPC491377           No   \n898573   NPO7576.2-NPC20791  NPO7576.2   NPC20791           No   \n898574  NPO7576.2-NPC301950  NPO7576.2  NPC301950           No   \n898575   NPO7576.2-NPC50898  NPO7576.2   NPC50898           No   \n\n       org_isolation_part org_collect_location org_collect_time     ref_type  \\\n0                    n.a.                 n.a.             n.a.     Database   \n1                    n.a.       Tsukuba, Japan         1998-JUN  Publication   \n2                    n.a.                 n.a.             n.a.     Database   \n3                    n.a.                 n.a.             n.a.     Database   \n4                    n.a.                 n.a.             n.a.     Database   \n...                   ...                  ...              ...          ...   \n898571               n.a.                 n.a.             n.a.  Publication   \n898572               n.a.                 n.a.             n.a.  Publication   \n898573               n.a.                 n.a.             n.a.  Publication   \n898574               n.a.                 n.a.             n.a.  Publication   \n898575               n.a.                 n.a.             n.a.  Publication   \n\n          ref_id ref_id_type                                   ref_url  \n0          TM-MC    Database                                      n.a.  \n1       12381108        PMID  https://pubmed.ncbi.nlm.nih.gov/12381108  \n2           UNPD    Database                                      n.a.  \n3           UNPD    Database                                      n.a.  \n4           UNPD    Database                                      n.a.  \n...          ...         ...                                       ...  \n898571  18460139        PMID  https://pubmed.ncbi.nlm.nih.gov/18460139  \n898572  18460139        PMID  https://pubmed.ncbi.nlm.nih.gov/18460139  \n898573  18460139        PMID  https://pubmed.ncbi.nlm.nih.gov/18460139  \n898574  18460139        PMID  https://pubmed.ncbi.nlm.nih.gov/18460139  \n898575  18460139        PMID  https://pubmed.ncbi.nlm.nih.gov/18460139  \n\n[898576 rows x 11 columns]",
      "text/html": "<div>\n<style scoped>\n    .dataframe tbody tr th:only-of-type {\n        vertical-align: middle;\n    }\n\n    .dataframe tbody tr th {\n        vertical-align: top;\n    }\n\n    .dataframe thead th {\n        text-align: right;\n    }\n</style>\n<table border=\"1\" class=\"dataframe\">\n  <thead>\n    <tr style=\"text-align: right;\">\n      <th></th>\n      <th>src_org_pair</th>\n      <th>org_id</th>\n      <th>np_id</th>\n      <th>new_cp_found</th>\n      <th>org_isolation_part</th>\n      <th>org_collect_location</th>\n      <th>org_collect_time</th>\n      <th>ref_type</th>\n      <th>ref_id</th>\n      <th>ref_id_type</th>\n      <th>ref_url</th>\n    </tr>\n  </thead>\n  <tbody>\n    <tr>\n      <th>0</th>\n      <td>NPO27288-NPC251357</td>\n      <td>NPO27288</td>\n      <td>NPC251357</td>\n      <td>n.a.</td>\n      <td>n.a.</td>\n      <td>n.a.</td>\n      <td>n.a.</td>\n      <td>Database</td>\n      <td>TM-MC</td>\n      <td>Database</td>\n      <td>n.a.</td>\n    </tr>\n    <tr>\n      <th>1</th>\n      <td>NPO8589-NPC116013</td>\n      <td>NPO8589</td>\n      <td>NPC116013</td>\n      <td>N</td>\n      <td>n.a.</td>\n      <td>Tsukuba, Japan</td>\n      <td>1998-JUN</td>\n      <td>Publication</td>\n      <td>12381108</td>\n      <td>PMID</td>\n      <td>https://pubmed.ncbi.nlm.nih.gov/12381108</td>\n    </tr>\n    <tr>\n      <th>2</th>\n      <td>NPO14625-NPC39</td>\n      <td>NPO14625</td>\n      <td>NPC39</td>\n      <td>n.a.</td>\n      <td>n.a.</td>\n      <td>n.a.</td>\n      <td>n.a.</td>\n      <td>Database</td>\n      <td>UNPD</td>\n      <td>Database</td>\n      <td>n.a.</td>\n    </tr>\n    <tr>\n      <th>3</th>\n      <td>NPO16590-NPC190457</td>\n      <td>NPO16590</td>\n      <td>NPC190457</td>\n      <td>n.a.</td>\n      <td>n.a.</td>\n      <td>n.a.</td>\n      <td>n.a.</td>\n      <td>Database</td>\n      <td>UNPD</td>\n      <td>Database</td>\n      <td>n.a.</td>\n    </tr>\n    <tr>\n      <th>4</th>\n      <td>NPO6861-NPC13143</td>\n      <td>NPO6861</td>\n      <td>NPC13143</td>\n      <td>n.a.</td>\n      <td>n.a.</td>\n      <td>n.a.</td>\n      <td>n.a.</td>\n      <td>Database</td>\n      <td>UNPD</td>\n      <td>Database</td>\n      <td>n.a.</td>\n    </tr>\n    <tr>\n      <th>...</th>\n      <td>...</td>\n      <td>...</td>\n      <td>...</td>\n      <td>...</td>\n      <td>...</td>\n      <td>...</td>\n      <td>...</td>\n      <td>...</td>\n      <td>...</td>\n      <td>...</td>\n      <td>...</td>\n    </tr>\n    <tr>\n      <th>898571</th>\n      <td>NPO7576.2-NPC491368</td>\n      <td>NPO7576.2</td>\n      <td>NPC491368</td>\n      <td>No</td>\n      <td>n.a.</td>\n      <td>n.a.</td>\n      <td>n.a.</td>\n      <td>Publication</td>\n      <td>18460139</td>\n      <td>PMID</td>\n      <td>https://pubmed.ncbi.nlm.nih.gov/18460139</td>\n    </tr>\n    <tr>\n      <th>898572</th>\n      <td>NPO7576.2-NPC491377</td>\n      <td>NPO7576.2</td>\n      <td>NPC491377</td>\n      <td>No</td>\n      <td>n.a.</td>\n      <td>n.a.</td>\n      <td>n.a.</td>\n      <td>Publication</td>\n      <td>18460139</td>\n      <td>PMID</td>\n      <td>https://pubmed.ncbi.nlm.nih.gov/18460139</td>\n    </tr>\n    <tr>\n      <th>898573</th>\n      <td>NPO7576.2-NPC20791</td>\n      <td>NPO7576.2</td>\n      <td>NPC20791</td>\n      <td>No</td>\n      <td>n.a.</td>\n      <td>n.a.</td>\n      <td>n.a.</td>\n      <td>Publication</td>\n      <td>18460139</td>\n      <td>PMID</td>\n      <td>https://pubmed.ncbi.nlm.nih.gov/18460139</td>\n    </tr>\n    <tr>\n      <th>898574</th>\n      <td>NPO7576.2-NPC301950</td>\n      <td>NPO7576.2</td>\n      <td>NPC301950</td>\n      <td>No</td>\n      <td>n.a.</td>\n      <td>n.a.</td>\n      <td>n.a.</td>\n      <td>Publication</td>\n      <td>18460139</td>\n      <td>PMID</td>\n      <td>https://pubmed.ncbi.nlm.nih.gov/18460139</td>\n    </tr>\n    <tr>\n      <th>898575</th>\n      <td>NPO7576.2-NPC50898</td>\n      <td>NPO7576.2</td>\n      <td>NPC50898</td>\n      <td>No</td>\n      <td>n.a.</td>\n      <td>n.a.</td>\n      <td>n.a.</td>\n      <td>Publication</td>\n      <td>18460139</td>\n      <td>PMID</td>\n      <td>https://pubmed.ncbi.nlm.nih.gov/18460139</td>\n    </tr>\n  </tbody>\n</table>\n<p>898576 rows × 11 columns</p>\n</div>"
     },
     "execution_count": 162,
     "metadata": {},
     "output_type": "execute_result"
    }
   ],
   "source": [
    "np = pd.read_csv('datasets/npass/NPASS_natural_product_species.txt', sep='\\t')\n",
    "np"
   ],
   "metadata": {
    "collapsed": false,
    "ExecuteTime": {
     "end_time": "2024-06-09T13:10:48.404759Z",
     "start_time": "2024-06-09T13:10:46.443260Z"
    }
   },
   "id": "bee7c18fb5380fda",
   "execution_count": 162
  },
  {
   "cell_type": "code",
   "outputs": [
    {
     "data": {
      "text/plain": "     target_id     target_type  \\\n0      NPT1031       Cell Line   \n1      NPT1034       Cell Line   \n2      NPT1045       Cell Line   \n3      NPT1059       Cell Line   \n4      NPT1076       Cell Line   \n...        ...             ...   \n8343  NPT28312        ORGANISM   \n8344  NPT28313        ORGANISM   \n8345  NPT28314        ORGANISM   \n8346  NPT28315        ORGANISM   \n8347  NPT28317  SINGLE PROTEIN   \n\n                                            target_name  \\\n0                                                Ca9-22   \n1                                                   Lu1   \n2                                                  U2OS   \n3                                                  HMEC   \n4                                               B-cells   \n...                                                 ...   \n8343                          Ceratobasidium cornigerum   \n8344                          Leishmania martiniquensis   \n8345                              Leishmania orientalis   \n8346                                      Candida auris   \n8347  ATP-dependent Clp protease ATP-binding subunit...   \n\n     target_organism_tax_id            target_organism uniprot_id  \n0                      9606               Homo sapiens        NaN  \n1                      9606               Homo sapiens        NaN  \n2                      9606               Homo sapiens        NaN  \n3                      9606               Homo sapiens        NaN  \n4                       NaN                        NaN        NaN  \n...                     ...                        ...        ...  \n8343                   5252  Ceratobasidium cornigerum       n.a.  \n8344                1580590  Leishmania martiniquensis       n.a.  \n8345                2249476      Leishmania orientalis       n.a.  \n8346                 498019              Candida auris       n.a.  \n8347                   9606               Homo sapiens     O76031  \n\n[8348 rows x 6 columns]",
      "text/html": "<div>\n<style scoped>\n    .dataframe tbody tr th:only-of-type {\n        vertical-align: middle;\n    }\n\n    .dataframe tbody tr th {\n        vertical-align: top;\n    }\n\n    .dataframe thead th {\n        text-align: right;\n    }\n</style>\n<table border=\"1\" class=\"dataframe\">\n  <thead>\n    <tr style=\"text-align: right;\">\n      <th></th>\n      <th>target_id</th>\n      <th>target_type</th>\n      <th>target_name</th>\n      <th>target_organism_tax_id</th>\n      <th>target_organism</th>\n      <th>uniprot_id</th>\n    </tr>\n  </thead>\n  <tbody>\n    <tr>\n      <th>0</th>\n      <td>NPT1031</td>\n      <td>Cell Line</td>\n      <td>Ca9-22</td>\n      <td>9606</td>\n      <td>Homo sapiens</td>\n      <td>NaN</td>\n    </tr>\n    <tr>\n      <th>1</th>\n      <td>NPT1034</td>\n      <td>Cell Line</td>\n      <td>Lu1</td>\n      <td>9606</td>\n      <td>Homo sapiens</td>\n      <td>NaN</td>\n    </tr>\n    <tr>\n      <th>2</th>\n      <td>NPT1045</td>\n      <td>Cell Line</td>\n      <td>U2OS</td>\n      <td>9606</td>\n      <td>Homo sapiens</td>\n      <td>NaN</td>\n    </tr>\n    <tr>\n      <th>3</th>\n      <td>NPT1059</td>\n      <td>Cell Line</td>\n      <td>HMEC</td>\n      <td>9606</td>\n      <td>Homo sapiens</td>\n      <td>NaN</td>\n    </tr>\n    <tr>\n      <th>4</th>\n      <td>NPT1076</td>\n      <td>Cell Line</td>\n      <td>B-cells</td>\n      <td>NaN</td>\n      <td>NaN</td>\n      <td>NaN</td>\n    </tr>\n    <tr>\n      <th>...</th>\n      <td>...</td>\n      <td>...</td>\n      <td>...</td>\n      <td>...</td>\n      <td>...</td>\n      <td>...</td>\n    </tr>\n    <tr>\n      <th>8343</th>\n      <td>NPT28312</td>\n      <td>ORGANISM</td>\n      <td>Ceratobasidium cornigerum</td>\n      <td>5252</td>\n      <td>Ceratobasidium cornigerum</td>\n      <td>n.a.</td>\n    </tr>\n    <tr>\n      <th>8344</th>\n      <td>NPT28313</td>\n      <td>ORGANISM</td>\n      <td>Leishmania martiniquensis</td>\n      <td>1580590</td>\n      <td>Leishmania martiniquensis</td>\n      <td>n.a.</td>\n    </tr>\n    <tr>\n      <th>8345</th>\n      <td>NPT28314</td>\n      <td>ORGANISM</td>\n      <td>Leishmania orientalis</td>\n      <td>2249476</td>\n      <td>Leishmania orientalis</td>\n      <td>n.a.</td>\n    </tr>\n    <tr>\n      <th>8346</th>\n      <td>NPT28315</td>\n      <td>ORGANISM</td>\n      <td>Candida auris</td>\n      <td>498019</td>\n      <td>Candida auris</td>\n      <td>n.a.</td>\n    </tr>\n    <tr>\n      <th>8347</th>\n      <td>NPT28317</td>\n      <td>SINGLE PROTEIN</td>\n      <td>ATP-dependent Clp protease ATP-binding subunit...</td>\n      <td>9606</td>\n      <td>Homo sapiens</td>\n      <td>O76031</td>\n    </tr>\n  </tbody>\n</table>\n<p>8348 rows × 6 columns</p>\n</div>"
     },
     "execution_count": 101,
     "metadata": {},
     "output_type": "execute_result"
    }
   ],
   "source": [
    "target_name = pd.read_csv('datasets/npass/NPASS_target_name.txt', sep='\\t')\n",
    "target_name"
   ],
   "metadata": {
    "collapsed": false,
    "ExecuteTime": {
     "end_time": "2024-06-07T14:00:37.783415Z",
     "start_time": "2024-06-07T14:00:37.712112Z"
    }
   },
   "id": "f7367bfb77ba18cf",
   "execution_count": 101
  },
  {
   "cell_type": "code",
   "outputs": [
    {
     "name": "stderr",
     "output_type": "stream",
     "text": [
      "/var/folders/kl/77dw97d55y1_kplchw9htctc0000gn/T/ipykernel_37602/3696305198.py:1: DtypeWarning: Columns (12) have mixed types. Specify dtype option on import or set low_memory=False.\n",
      "  target_activity = pd.read_csv('datasets/npass/NPASS_targets_activity.txt', sep='\\t')\n"
     ]
    },
    {
     "data": {
      "text/plain": "            np_id target_id activity_type_grouped activity_relation  \\\n0       NPC250187    NPT393                  IC50                 =   \n1       NPC250187    NPT400                  IC50                 =   \n2       NPC250187    NPT400                Others                 =   \n3       NPC250187     NPT20                   MIC                 =   \n4       NPC250187    NPT312                   MIC                 =   \n...           ...       ...                   ...               ...   \n958861  NPC489635    NPT389                  IC50                 =   \n958862  NPC218631    NPT286                Others                 =   \n958863  NPC218631    NPT165                  IC50                 =   \n958864  NPC484315     NPT35                  IC50                 =   \n958865  NPC480750    NPT168                  ED50                 =   \n\n       activity_type  activity_value activity_units            assay_organism  \\\n0               IC50      49000.0000             nM              Homo sapiens   \n1               IC50      29700.0000             nM              Homo sapiens   \n2         Ratio IC50          0.6000           n.a.              Homo sapiens   \n3                MIC       2500.0000             nM          Candida albicans   \n4                MIC       2500.0000             nM  Saccharomyces cerevisiae   \n...              ...             ...            ...                       ...   \n958861          IC50          9.7000             nM              Homo sapiens   \n958862    Inhibition         66.0000              %                      n.a.   \n958863          IC50      30000.0000             nM              Homo sapiens   \n958864          IC50       6100.0000             nM                      n.a.   \n958865          ED50          0.0018        ug ml-1              Mus musculus   \n\n       assay_tax_id assay_strain    assay_tissue assay_cell_type    ref_id  \\\n0              9606         n.a.            n.a.         HCT-116    447201   \n1              9606         n.a.            n.a.      MDA-MB-435    447201   \n2              9606         n.a.            n.a.      MDA-MB-435    447201   \n3              5476         n.a.            n.a.            n.a.    447202   \n4              4932         n.a.            n.a.            n.a.    447202   \n...             ...          ...             ...             ...       ...   \n958861         9606         n.a.            n.a.       RPMI-8226  17243724   \n958862         n.a.         n.a.            n.a.            n.a.  20028027   \n958863         9606         n.a.  Uterine cervix            HeLa  33387695   \n958864         n.a.         n.a.            n.a.            n.a.  26934105   \n958865        10090         n.a.            n.a.            P388  26938998   \n\n       ref_id_type  \n0             PMID  \n1             PMID  \n2             PMID  \n3             PMID  \n4             PMID  \n...            ...  \n958861        PMID  \n958862        PMID  \n958863        PMID  \n958864        PMID  \n958865        PMID  \n\n[958866 rows x 14 columns]",
      "text/html": "<div>\n<style scoped>\n    .dataframe tbody tr th:only-of-type {\n        vertical-align: middle;\n    }\n\n    .dataframe tbody tr th {\n        vertical-align: top;\n    }\n\n    .dataframe thead th {\n        text-align: right;\n    }\n</style>\n<table border=\"1\" class=\"dataframe\">\n  <thead>\n    <tr style=\"text-align: right;\">\n      <th></th>\n      <th>np_id</th>\n      <th>target_id</th>\n      <th>activity_type_grouped</th>\n      <th>activity_relation</th>\n      <th>activity_type</th>\n      <th>activity_value</th>\n      <th>activity_units</th>\n      <th>assay_organism</th>\n      <th>assay_tax_id</th>\n      <th>assay_strain</th>\n      <th>assay_tissue</th>\n      <th>assay_cell_type</th>\n      <th>ref_id</th>\n      <th>ref_id_type</th>\n    </tr>\n  </thead>\n  <tbody>\n    <tr>\n      <th>0</th>\n      <td>NPC250187</td>\n      <td>NPT393</td>\n      <td>IC50</td>\n      <td>=</td>\n      <td>IC50</td>\n      <td>49000.0000</td>\n      <td>nM</td>\n      <td>Homo sapiens</td>\n      <td>9606</td>\n      <td>n.a.</td>\n      <td>n.a.</td>\n      <td>HCT-116</td>\n      <td>447201</td>\n      <td>PMID</td>\n    </tr>\n    <tr>\n      <th>1</th>\n      <td>NPC250187</td>\n      <td>NPT400</td>\n      <td>IC50</td>\n      <td>=</td>\n      <td>IC50</td>\n      <td>29700.0000</td>\n      <td>nM</td>\n      <td>Homo sapiens</td>\n      <td>9606</td>\n      <td>n.a.</td>\n      <td>n.a.</td>\n      <td>MDA-MB-435</td>\n      <td>447201</td>\n      <td>PMID</td>\n    </tr>\n    <tr>\n      <th>2</th>\n      <td>NPC250187</td>\n      <td>NPT400</td>\n      <td>Others</td>\n      <td>=</td>\n      <td>Ratio IC50</td>\n      <td>0.6000</td>\n      <td>n.a.</td>\n      <td>Homo sapiens</td>\n      <td>9606</td>\n      <td>n.a.</td>\n      <td>n.a.</td>\n      <td>MDA-MB-435</td>\n      <td>447201</td>\n      <td>PMID</td>\n    </tr>\n    <tr>\n      <th>3</th>\n      <td>NPC250187</td>\n      <td>NPT20</td>\n      <td>MIC</td>\n      <td>=</td>\n      <td>MIC</td>\n      <td>2500.0000</td>\n      <td>nM</td>\n      <td>Candida albicans</td>\n      <td>5476</td>\n      <td>n.a.</td>\n      <td>n.a.</td>\n      <td>n.a.</td>\n      <td>447202</td>\n      <td>PMID</td>\n    </tr>\n    <tr>\n      <th>4</th>\n      <td>NPC250187</td>\n      <td>NPT312</td>\n      <td>MIC</td>\n      <td>=</td>\n      <td>MIC</td>\n      <td>2500.0000</td>\n      <td>nM</td>\n      <td>Saccharomyces cerevisiae</td>\n      <td>4932</td>\n      <td>n.a.</td>\n      <td>n.a.</td>\n      <td>n.a.</td>\n      <td>447202</td>\n      <td>PMID</td>\n    </tr>\n    <tr>\n      <th>...</th>\n      <td>...</td>\n      <td>...</td>\n      <td>...</td>\n      <td>...</td>\n      <td>...</td>\n      <td>...</td>\n      <td>...</td>\n      <td>...</td>\n      <td>...</td>\n      <td>...</td>\n      <td>...</td>\n      <td>...</td>\n      <td>...</td>\n      <td>...</td>\n    </tr>\n    <tr>\n      <th>958861</th>\n      <td>NPC489635</td>\n      <td>NPT389</td>\n      <td>IC50</td>\n      <td>=</td>\n      <td>IC50</td>\n      <td>9.7000</td>\n      <td>nM</td>\n      <td>Homo sapiens</td>\n      <td>9606</td>\n      <td>n.a.</td>\n      <td>n.a.</td>\n      <td>RPMI-8226</td>\n      <td>17243724</td>\n      <td>PMID</td>\n    </tr>\n    <tr>\n      <th>958862</th>\n      <td>NPC218631</td>\n      <td>NPT286</td>\n      <td>Others</td>\n      <td>=</td>\n      <td>Inhibition</td>\n      <td>66.0000</td>\n      <td>%</td>\n      <td>n.a.</td>\n      <td>n.a.</td>\n      <td>n.a.</td>\n      <td>n.a.</td>\n      <td>n.a.</td>\n      <td>20028027</td>\n      <td>PMID</td>\n    </tr>\n    <tr>\n      <th>958863</th>\n      <td>NPC218631</td>\n      <td>NPT165</td>\n      <td>IC50</td>\n      <td>=</td>\n      <td>IC50</td>\n      <td>30000.0000</td>\n      <td>nM</td>\n      <td>Homo sapiens</td>\n      <td>9606</td>\n      <td>n.a.</td>\n      <td>Uterine cervix</td>\n      <td>HeLa</td>\n      <td>33387695</td>\n      <td>PMID</td>\n    </tr>\n    <tr>\n      <th>958864</th>\n      <td>NPC484315</td>\n      <td>NPT35</td>\n      <td>IC50</td>\n      <td>=</td>\n      <td>IC50</td>\n      <td>6100.0000</td>\n      <td>nM</td>\n      <td>n.a.</td>\n      <td>n.a.</td>\n      <td>n.a.</td>\n      <td>n.a.</td>\n      <td>n.a.</td>\n      <td>26934105</td>\n      <td>PMID</td>\n    </tr>\n    <tr>\n      <th>958865</th>\n      <td>NPC480750</td>\n      <td>NPT168</td>\n      <td>ED50</td>\n      <td>=</td>\n      <td>ED50</td>\n      <td>0.0018</td>\n      <td>ug ml-1</td>\n      <td>Mus musculus</td>\n      <td>10090</td>\n      <td>n.a.</td>\n      <td>n.a.</td>\n      <td>P388</td>\n      <td>26938998</td>\n      <td>PMID</td>\n    </tr>\n  </tbody>\n</table>\n<p>958866 rows × 14 columns</p>\n</div>"
     },
     "execution_count": 102,
     "metadata": {},
     "output_type": "execute_result"
    }
   ],
   "source": [
    "target_activity = pd.read_csv('datasets/npass/NPASS_targets_activity.txt', sep='\\t')\n",
    "target_activity"
   ],
   "metadata": {
    "collapsed": false,
    "ExecuteTime": {
     "end_time": "2024-06-07T14:00:58.560611Z",
     "start_time": "2024-06-07T14:00:57.565120Z"
    }
   },
   "id": "554aec0fd9f826e1",
   "execution_count": 102
  },
  {
   "cell_type": "code",
   "outputs": [
    {
     "data": {
      "text/plain": "       target_id target_type        target_name target_organism_tax_id  \\\n770751    NPT963    Organism  Hepatitis B virus                  10407   \n770752    NPT963    Organism  Hepatitis B virus                  10407   \n770753    NPT963    Organism  Hepatitis B virus                  10407   \n809556      NPT2      Others        Unspecified                    NaN   \n809557      NPT2      Others        Unspecified                    NaN   \n809558      NPT2      Others        Unspecified                    NaN   \n860204     NPT27      Others        Unspecified                    NaN   \n\n          target_organism uniprot_id      np_id activity_type_grouped  \\\n770751  Hepatitis B virus        NaN  NPC167504                  IC50   \n770752  Hepatitis B virus        NaN  NPC167504                  IC50   \n770753  Hepatitis B virus        NaN  NPC167504                  IC50   \n809556                NaN        NaN  NPC167504                Others   \n809557                NaN        NaN  NPC167504                Others   \n809558                NaN        NaN  NPC167504                Others   \n860204                NaN        NaN  NPC167504                Others   \n\n       activity_relation    activity_type  activity_value activity_units  \\\n770751                 =             IC50       1300000.0             nM   \n770752                 =             IC50       1140000.0             nM   \n770753                 =             IC50        760000.0             nM   \n809556                 =  Ratio CC50/IC50             1.4           n.a.   \n809557                 =  Ratio CC50/IC50             1.5           n.a.   \n809558                 =  Ratio CC50/IC50             2.3           n.a.   \n860204                 =             CC50       1760000.0             nM   \n\n           assay_organism assay_tax_id assay_strain assay_tissue  \\\n770751  Hepatitis B virus        10407         n.a.         n.a.   \n770752  Hepatitis B virus        10407         n.a.         n.a.   \n770753  Hepatitis B virus        10407         n.a.         n.a.   \n809556               n.a.         n.a.         n.a.         n.a.   \n809557               n.a.         n.a.         n.a.         n.a.   \n809558               n.a.         n.a.         n.a.         n.a.   \n860204       Homo sapiens         9606         n.a.         n.a.   \n\n       assay_cell_type  ref_id ref_id_type  \n770751            n.a.  547064        PMID  \n770752            n.a.  547064        PMID  \n770753            n.a.  547064        PMID  \n809556            n.a.  547064        PMID  \n809557            n.a.  547064        PMID  \n809558            n.a.  547064        PMID  \n860204    HepG2 2.2.15  547064        PMID  ",
      "text/html": "<div>\n<style scoped>\n    .dataframe tbody tr th:only-of-type {\n        vertical-align: middle;\n    }\n\n    .dataframe tbody tr th {\n        vertical-align: top;\n    }\n\n    .dataframe thead th {\n        text-align: right;\n    }\n</style>\n<table border=\"1\" class=\"dataframe\">\n  <thead>\n    <tr style=\"text-align: right;\">\n      <th></th>\n      <th>target_id</th>\n      <th>target_type</th>\n      <th>target_name</th>\n      <th>target_organism_tax_id</th>\n      <th>target_organism</th>\n      <th>uniprot_id</th>\n      <th>np_id</th>\n      <th>activity_type_grouped</th>\n      <th>activity_relation</th>\n      <th>activity_type</th>\n      <th>activity_value</th>\n      <th>activity_units</th>\n      <th>assay_organism</th>\n      <th>assay_tax_id</th>\n      <th>assay_strain</th>\n      <th>assay_tissue</th>\n      <th>assay_cell_type</th>\n      <th>ref_id</th>\n      <th>ref_id_type</th>\n    </tr>\n  </thead>\n  <tbody>\n    <tr>\n      <th>770751</th>\n      <td>NPT963</td>\n      <td>Organism</td>\n      <td>Hepatitis B virus</td>\n      <td>10407</td>\n      <td>Hepatitis B virus</td>\n      <td>NaN</td>\n      <td>NPC167504</td>\n      <td>IC50</td>\n      <td>=</td>\n      <td>IC50</td>\n      <td>1300000.0</td>\n      <td>nM</td>\n      <td>Hepatitis B virus</td>\n      <td>10407</td>\n      <td>n.a.</td>\n      <td>n.a.</td>\n      <td>n.a.</td>\n      <td>547064</td>\n      <td>PMID</td>\n    </tr>\n    <tr>\n      <th>770752</th>\n      <td>NPT963</td>\n      <td>Organism</td>\n      <td>Hepatitis B virus</td>\n      <td>10407</td>\n      <td>Hepatitis B virus</td>\n      <td>NaN</td>\n      <td>NPC167504</td>\n      <td>IC50</td>\n      <td>=</td>\n      <td>IC50</td>\n      <td>1140000.0</td>\n      <td>nM</td>\n      <td>Hepatitis B virus</td>\n      <td>10407</td>\n      <td>n.a.</td>\n      <td>n.a.</td>\n      <td>n.a.</td>\n      <td>547064</td>\n      <td>PMID</td>\n    </tr>\n    <tr>\n      <th>770753</th>\n      <td>NPT963</td>\n      <td>Organism</td>\n      <td>Hepatitis B virus</td>\n      <td>10407</td>\n      <td>Hepatitis B virus</td>\n      <td>NaN</td>\n      <td>NPC167504</td>\n      <td>IC50</td>\n      <td>=</td>\n      <td>IC50</td>\n      <td>760000.0</td>\n      <td>nM</td>\n      <td>Hepatitis B virus</td>\n      <td>10407</td>\n      <td>n.a.</td>\n      <td>n.a.</td>\n      <td>n.a.</td>\n      <td>547064</td>\n      <td>PMID</td>\n    </tr>\n    <tr>\n      <th>809556</th>\n      <td>NPT2</td>\n      <td>Others</td>\n      <td>Unspecified</td>\n      <td>NaN</td>\n      <td>NaN</td>\n      <td>NaN</td>\n      <td>NPC167504</td>\n      <td>Others</td>\n      <td>=</td>\n      <td>Ratio CC50/IC50</td>\n      <td>1.4</td>\n      <td>n.a.</td>\n      <td>n.a.</td>\n      <td>n.a.</td>\n      <td>n.a.</td>\n      <td>n.a.</td>\n      <td>n.a.</td>\n      <td>547064</td>\n      <td>PMID</td>\n    </tr>\n    <tr>\n      <th>809557</th>\n      <td>NPT2</td>\n      <td>Others</td>\n      <td>Unspecified</td>\n      <td>NaN</td>\n      <td>NaN</td>\n      <td>NaN</td>\n      <td>NPC167504</td>\n      <td>Others</td>\n      <td>=</td>\n      <td>Ratio CC50/IC50</td>\n      <td>1.5</td>\n      <td>n.a.</td>\n      <td>n.a.</td>\n      <td>n.a.</td>\n      <td>n.a.</td>\n      <td>n.a.</td>\n      <td>n.a.</td>\n      <td>547064</td>\n      <td>PMID</td>\n    </tr>\n    <tr>\n      <th>809558</th>\n      <td>NPT2</td>\n      <td>Others</td>\n      <td>Unspecified</td>\n      <td>NaN</td>\n      <td>NaN</td>\n      <td>NaN</td>\n      <td>NPC167504</td>\n      <td>Others</td>\n      <td>=</td>\n      <td>Ratio CC50/IC50</td>\n      <td>2.3</td>\n      <td>n.a.</td>\n      <td>n.a.</td>\n      <td>n.a.</td>\n      <td>n.a.</td>\n      <td>n.a.</td>\n      <td>n.a.</td>\n      <td>547064</td>\n      <td>PMID</td>\n    </tr>\n    <tr>\n      <th>860204</th>\n      <td>NPT27</td>\n      <td>Others</td>\n      <td>Unspecified</td>\n      <td>NaN</td>\n      <td>NaN</td>\n      <td>NaN</td>\n      <td>NPC167504</td>\n      <td>Others</td>\n      <td>=</td>\n      <td>CC50</td>\n      <td>1760000.0</td>\n      <td>nM</td>\n      <td>Homo sapiens</td>\n      <td>9606</td>\n      <td>n.a.</td>\n      <td>n.a.</td>\n      <td>HepG2 2.2.15</td>\n      <td>547064</td>\n      <td>PMID</td>\n    </tr>\n  </tbody>\n</table>\n</div>"
     },
     "execution_count": 111,
     "metadata": {},
     "output_type": "execute_result"
    }
   ],
   "source": [
    "# merge target_name and target_activity based on target_id:\n",
    "target = target_name.merge(target_activity, left_on='target_id', right_on='target_id')\n",
    "target[target['np_id'] == 'NPC167504']"
   ],
   "metadata": {
    "collapsed": false,
    "ExecuteTime": {
     "end_time": "2024-06-07T14:09:19.662239Z",
     "start_time": "2024-06-07T14:09:18.910530Z"
    }
   },
   "id": "ad8b7865d562b0a",
   "execution_count": 111
  },
  {
   "cell_type": "code",
   "outputs": [
    {
     "data": {
      "text/plain": "           np_id         pref_name  \\\n15998  NPC167504  Erythrocentaurin   \n\n                                        iupac_name      chembl_id pubchem_cid  \\\n15998  1-oxo-3,4-dihydroisochromene-5-carbaldehyde  CHEMBL3397161      191120   \n\n       num_of_organism  num_of_target  num_of_activity if_has_Quantity  \n15998              6.0            3.0              7.0              No  ",
      "text/html": "<div>\n<style scoped>\n    .dataframe tbody tr th:only-of-type {\n        vertical-align: middle;\n    }\n\n    .dataframe tbody tr th {\n        vertical-align: top;\n    }\n\n    .dataframe thead th {\n        text-align: right;\n    }\n</style>\n<table border=\"1\" class=\"dataframe\">\n  <thead>\n    <tr style=\"text-align: right;\">\n      <th></th>\n      <th>np_id</th>\n      <th>pref_name</th>\n      <th>iupac_name</th>\n      <th>chembl_id</th>\n      <th>pubchem_cid</th>\n      <th>num_of_organism</th>\n      <th>num_of_target</th>\n      <th>num_of_activity</th>\n      <th>if_has_Quantity</th>\n    </tr>\n  </thead>\n  <tbody>\n    <tr>\n      <th>15998</th>\n      <td>NPC167504</td>\n      <td>Erythrocentaurin</td>\n      <td>1-oxo-3,4-dihydroisochromene-5-carbaldehyde</td>\n      <td>CHEMBL3397161</td>\n      <td>191120</td>\n      <td>6.0</td>\n      <td>3.0</td>\n      <td>7.0</td>\n      <td>No</td>\n    </tr>\n  </tbody>\n</table>\n</div>"
     },
     "execution_count": 115,
     "metadata": {},
     "output_type": "execute_result"
    }
   ],
   "source": [
    "compound = pd.read_csv('datasets/npass/NPASS_compound_names.txt', sep='\\t')\n",
    "compound[compound['np_id'] == 'NPC167504']"
   ],
   "metadata": {
    "collapsed": false,
    "ExecuteTime": {
     "end_time": "2024-06-07T14:15:47.865100Z",
     "start_time": "2024-06-07T14:15:47.699673Z"
    }
   },
   "id": "70e9cc3bcdab76c2",
   "execution_count": 115
  },
  {
   "cell_type": "markdown",
   "source": [
    "# Chembl Database"
   ],
   "metadata": {
    "collapsed": false
   },
   "id": "f8de006e955eba67"
  },
  {
   "cell_type": "code",
   "outputs": [],
   "source": [
    "import chembl_downloader\n",
    "\n",
    "sql = \"\"\"\n",
    "SELECT * FROM CHEMBL_ID_LOOKUP\n",
    "\"\"\"\n",
    "\n",
    "chembl_lookup = chembl_downloader.query(sql)"
   ],
   "metadata": {
    "collapsed": false,
    "ExecuteTime": {
     "end_time": "2024-06-07T19:24:54.586808Z",
     "start_time": "2024-06-07T19:24:47.705908Z"
    }
   },
   "id": "9411ae00c399c943",
   "execution_count": 124
  },
  {
   "cell_type": "code",
   "outputs": [],
   "source": [
    "sql = \"\"\"\n",
    "SELECT * FROM COMPOUND_RECORDS\n",
    "\"\"\"\n",
    "\n",
    "compound_records = chembl_downloader.query(sql)"
   ],
   "metadata": {
    "collapsed": false,
    "ExecuteTime": {
     "end_time": "2024-06-07T19:31:49.523962Z",
     "start_time": "2024-06-07T19:31:42.272923Z"
    }
   },
   "id": "c7db0b747f080267",
   "execution_count": 127
  },
  {
   "cell_type": "code",
   "outputs": [],
   "source": [
    "sql = \"\"\"\n",
    "SELECT * FROM TARGET_DICTIONARY\n",
    "\"\"\"\n",
    "\n",
    "target_records = chembl_downloader.query(sql)"
   ],
   "metadata": {
    "collapsed": false,
    "ExecuteTime": {
     "end_time": "2024-06-07T19:31:52.041531Z",
     "start_time": "2024-06-07T19:31:51.352207Z"
    }
   },
   "id": "d0ac168aa01c647",
   "execution_count": 128
  },
  {
   "cell_type": "code",
   "outputs": [],
   "source": [
    "sql = \"\"\"\n",
    "SELECT * FROM DOCS\n",
    "\"\"\"\n",
    "\n",
    "docs = chembl_downloader.query(sql)"
   ],
   "metadata": {
    "collapsed": false,
    "ExecuteTime": {
     "end_time": "2024-06-07T19:31:53.931257Z",
     "start_time": "2024-06-07T19:31:52.808072Z"
    }
   },
   "id": "8f8a995f723c6e60",
   "execution_count": 129
  },
  {
   "cell_type": "code",
   "outputs": [
    {
     "data": {
      "text/plain": "PosixPath('/Users/aymanehachcham/.data/chembl/34/data/chembl_34/chembl_34_sqlite/chembl_34.db')"
     },
     "execution_count": 121,
     "metadata": {},
     "output_type": "execute_result"
    }
   ],
   "source": [
    "path = chembl_downloader.download_extract_sqlite()\n",
    "path"
   ],
   "metadata": {
    "collapsed": false,
    "ExecuteTime": {
     "end_time": "2024-06-07T19:21:49.787671Z",
     "start_time": "2024-06-07T19:21:08.742346Z"
    }
   },
   "id": "2b37716977a0bf66",
   "execution_count": 121
  },
  {
   "cell_type": "code",
   "outputs": [
    {
     "data": {
      "text/plain": "            chembl_id entity_type  entity_id  status  last_active\n0             CHEMBL1    COMPOUND     517180  ACTIVE         34.0\n1            CHEMBL10    COMPOUND        250  ACTIVE         34.0\n2           CHEMBL100    COMPOUND      12356  ACTIVE         34.0\n3          CHEMBL1000    COMPOUND     111185  ACTIVE         34.0\n4         CHEMBL10000    COMPOUND       7079  ACTIVE         34.0\n...               ...         ...        ...     ...          ...\n4640246  CHEMBL999995       ASSAY     551200  ACTIVE         34.0\n4640247  CHEMBL999996       ASSAY     551201  ACTIVE         34.0\n4640248  CHEMBL999997       ASSAY     551202  ACTIVE         34.0\n4640249  CHEMBL999998       ASSAY     551203  ACTIVE         34.0\n4640250  CHEMBL999999       ASSAY     551204  ACTIVE         34.0\n\n[4640251 rows x 5 columns]",
      "text/html": "<div>\n<style scoped>\n    .dataframe tbody tr th:only-of-type {\n        vertical-align: middle;\n    }\n\n    .dataframe tbody tr th {\n        vertical-align: top;\n    }\n\n    .dataframe thead th {\n        text-align: right;\n    }\n</style>\n<table border=\"1\" class=\"dataframe\">\n  <thead>\n    <tr style=\"text-align: right;\">\n      <th></th>\n      <th>chembl_id</th>\n      <th>entity_type</th>\n      <th>entity_id</th>\n      <th>status</th>\n      <th>last_active</th>\n    </tr>\n  </thead>\n  <tbody>\n    <tr>\n      <th>0</th>\n      <td>CHEMBL1</td>\n      <td>COMPOUND</td>\n      <td>517180</td>\n      <td>ACTIVE</td>\n      <td>34.0</td>\n    </tr>\n    <tr>\n      <th>1</th>\n      <td>CHEMBL10</td>\n      <td>COMPOUND</td>\n      <td>250</td>\n      <td>ACTIVE</td>\n      <td>34.0</td>\n    </tr>\n    <tr>\n      <th>2</th>\n      <td>CHEMBL100</td>\n      <td>COMPOUND</td>\n      <td>12356</td>\n      <td>ACTIVE</td>\n      <td>34.0</td>\n    </tr>\n    <tr>\n      <th>3</th>\n      <td>CHEMBL1000</td>\n      <td>COMPOUND</td>\n      <td>111185</td>\n      <td>ACTIVE</td>\n      <td>34.0</td>\n    </tr>\n    <tr>\n      <th>4</th>\n      <td>CHEMBL10000</td>\n      <td>COMPOUND</td>\n      <td>7079</td>\n      <td>ACTIVE</td>\n      <td>34.0</td>\n    </tr>\n    <tr>\n      <th>...</th>\n      <td>...</td>\n      <td>...</td>\n      <td>...</td>\n      <td>...</td>\n      <td>...</td>\n    </tr>\n    <tr>\n      <th>4640246</th>\n      <td>CHEMBL999995</td>\n      <td>ASSAY</td>\n      <td>551200</td>\n      <td>ACTIVE</td>\n      <td>34.0</td>\n    </tr>\n    <tr>\n      <th>4640247</th>\n      <td>CHEMBL999996</td>\n      <td>ASSAY</td>\n      <td>551201</td>\n      <td>ACTIVE</td>\n      <td>34.0</td>\n    </tr>\n    <tr>\n      <th>4640248</th>\n      <td>CHEMBL999997</td>\n      <td>ASSAY</td>\n      <td>551202</td>\n      <td>ACTIVE</td>\n      <td>34.0</td>\n    </tr>\n    <tr>\n      <th>4640249</th>\n      <td>CHEMBL999998</td>\n      <td>ASSAY</td>\n      <td>551203</td>\n      <td>ACTIVE</td>\n      <td>34.0</td>\n    </tr>\n    <tr>\n      <th>4640250</th>\n      <td>CHEMBL999999</td>\n      <td>ASSAY</td>\n      <td>551204</td>\n      <td>ACTIVE</td>\n      <td>34.0</td>\n    </tr>\n  </tbody>\n</table>\n<p>4640251 rows × 5 columns</p>\n</div>"
     },
     "execution_count": 134,
     "metadata": {},
     "output_type": "execute_result"
    }
   ],
   "source": [
    "chembl_lookup"
   ],
   "metadata": {
    "collapsed": false,
    "ExecuteTime": {
     "end_time": "2024-06-07T19:34:40.329282Z",
     "start_time": "2024-06-07T19:34:40.294436Z"
    }
   },
   "id": "97d992f99651ff6c",
   "execution_count": 134
  },
  {
   "cell_type": "code",
   "outputs": [
    {
     "data": {
      "text/plain": "         record_id  molregno  doc_id compound_key     compound_name  src_id  \\\n1748790    2278959   1828878   91049           ET  erythrocentaurin       1   \n\n        src_compound_id  cidx  \n1748790          785798  CLD0  ",
      "text/html": "<div>\n<style scoped>\n    .dataframe tbody tr th:only-of-type {\n        vertical-align: middle;\n    }\n\n    .dataframe tbody tr th {\n        vertical-align: top;\n    }\n\n    .dataframe thead th {\n        text-align: right;\n    }\n</style>\n<table border=\"1\" class=\"dataframe\">\n  <thead>\n    <tr style=\"text-align: right;\">\n      <th></th>\n      <th>record_id</th>\n      <th>molregno</th>\n      <th>doc_id</th>\n      <th>compound_key</th>\n      <th>compound_name</th>\n      <th>src_id</th>\n      <th>src_compound_id</th>\n      <th>cidx</th>\n    </tr>\n  </thead>\n  <tbody>\n    <tr>\n      <th>1748790</th>\n      <td>2278959</td>\n      <td>1828878</td>\n      <td>91049</td>\n      <td>ET</td>\n      <td>erythrocentaurin</td>\n      <td>1</td>\n      <td>785798</td>\n      <td>CLD0</td>\n    </tr>\n  </tbody>\n</table>\n</div>"
     },
     "execution_count": 133,
     "metadata": {},
     "output_type": "execute_result"
    }
   ],
   "source": [
    "compound_records[compound_records['molregno'] == 1828878]"
   ],
   "metadata": {
    "collapsed": false,
    "ExecuteTime": {
     "end_time": "2024-06-07T19:34:29.641318Z",
     "start_time": "2024-06-07T19:34:29.618816Z"
    }
   },
   "id": "8d96abfd2edf3b16",
   "execution_count": 133
  },
  {
   "cell_type": "markdown",
   "source": [
    "# CREATE the Database"
   ],
   "metadata": {
    "collapsed": false
   },
   "id": "f49c16a978210ed8"
  },
  {
   "cell_type": "code",
   "outputs": [],
   "source": [
    "from sqlalchemy import create_engine\n",
    "\n",
    "engine = create_engine('sqlite:///datasets/data_model.db', echo=True)"
   ],
   "metadata": {
    "collapsed": false,
    "ExecuteTime": {
     "end_time": "2024-06-09T20:18:19.622436Z",
     "start_time": "2024-06-09T20:18:19.514698Z"
    }
   },
   "id": "427499a1e598eebe",
   "execution_count": 2
  },
  {
   "cell_type": "code",
   "outputs": [
    {
     "name": "stdout",
     "output_type": "stream",
     "text": [
      "2024-06-07 21:41:47,910 INFO sqlalchemy.engine.Engine BEGIN (implicit)\n",
      "2024-06-07 21:41:47,922 INFO sqlalchemy.engine.Engine PRAGMA main.table_info(\"species\")\n",
      "2024-06-07 21:41:47,923 INFO sqlalchemy.engine.Engine [raw sql] ()\n",
      "2024-06-07 21:41:47,925 INFO sqlalchemy.engine.Engine PRAGMA temp.table_info(\"species\")\n",
      "2024-06-07 21:41:47,925 INFO sqlalchemy.engine.Engine [raw sql] ()\n",
      "2024-06-07 21:41:47,938 INFO sqlalchemy.engine.Engine \n",
      "CREATE TABLE species (\n",
      "\tspecies_id BIGINT, \n",
      "\tname TEXT, \n",
      "\tcommon_names TEXT, \n",
      "\tfamily TEXT, \n",
      "\tfamily_apg TEXT\n",
      ")\n",
      "\n",
      "\n",
      "2024-06-07 21:41:47,938 INFO sqlalchemy.engine.Engine [no key 0.00047s] ()\n",
      "2024-06-07 21:41:47,951 INFO sqlalchemy.engine.Engine INSERT INTO species (species_id, name, common_names, family, family_apg) VALUES (?, ?, ?, ?, ?)\n",
      "2024-06-07 21:41:47,951 INFO sqlalchemy.engine.Engine [generated in 0.00669s] [(1, 'Abies amabilis (Dougl. ex Loud.) Dougl. ex Forbes', 'Pacific Silver Fir', 'Pinaceae', 'Pinaceae'), (2, 'Abies balsamea (L.) P. Mill.', 'Balsam Fir', 'Pinaceae', 'Pinaceae'), (3, 'Abies concolor (Gord. & Glend.) Lindl. ex Hildebr.', 'White Fir', 'Pinaceae', 'Pinaceae'), (4, 'Abies fraseri (Pursh) Poir.', \"Fraser's Fir\", 'Pinaceae', 'Pinaceae'), (5, 'Abies grandis (Dougl. ex D. Don) Lindl.', 'Grand Fir', 'Pinaceae', 'Pinaceae'), (6, 'Abies lasiocarpa (Hook.) Nutt.', 'Subalpine Fir', 'Pinaceae', 'Pinaceae'), (7, 'Abies procera Rehd.', 'Noble Fir', 'Pinaceae', 'Pinaceae'), (8, 'Abies sp.', 'Balsam Fir', 'Pinaceae', 'Pinaceae')  ... displaying 10 of 4260 total bound parameter sets ...  (4259, 'Ziziphus parryi Torr.', \"Parry's Jujube\", 'Rhamnaceae', 'Rhamnaceae'), (4260, 'Zostera marina L.', 'Seawrack', 'Zosteraceae', 'Zosteraceae')]\n",
      "2024-06-07 21:41:47,956 INFO sqlalchemy.engine.Engine COMMIT\n",
      "2024-06-07 21:41:47,958 INFO sqlalchemy.engine.Engine BEGIN (implicit)\n",
      "2024-06-07 21:41:47,959 INFO sqlalchemy.engine.Engine PRAGMA main.table_info(\"sources\")\n",
      "2024-06-07 21:41:47,960 INFO sqlalchemy.engine.Engine [raw sql] ()\n",
      "2024-06-07 21:41:47,960 INFO sqlalchemy.engine.Engine PRAGMA temp.table_info(\"sources\")\n",
      "2024-06-07 21:41:47,961 INFO sqlalchemy.engine.Engine [raw sql] ()\n",
      "2024-06-07 21:41:47,962 INFO sqlalchemy.engine.Engine \n",
      "CREATE TABLE sources (\n",
      "\tsource_id BIGINT, \n",
      "\trefcode TEXT, \n",
      "\ttype TEXT, \n",
      "\tauthor TEXT, \n",
      "\tbooktitle TEXT, \n",
      "\tcomment TEXT, \n",
      "\tedition TEXT, \n",
      "\teditor TEXT, \n",
      "\tjournal TEXT, \n",
      "\tmonth TEXT, \n",
      "\tnote TEXT, \n",
      "\tnumber FLOAT, \n",
      "\tpages TEXT, \n",
      "\tpublisher TEXT, \n",
      "\ttitle TEXT, \n",
      "\turl TEXT, \n",
      "\tvolume TEXT, \n",
      "\tyear BIGINT\n",
      ")\n",
      "\n",
      "\n",
      "2024-06-07 21:41:47,962 INFO sqlalchemy.engine.Engine [no key 0.00026s] ()\n",
      "2024-06-07 21:41:47,965 INFO sqlalchemy.engine.Engine INSERT INTO sources (source_id, refcode, type, author, booktitle, comment, edition, editor, journal, month, note, number, pages, publisher, title, url, volume, year) VALUES (?, ?, ?, ?, ?, ?, ?, ?, ?, ?, ?, ?, ?, ?, ?, ?, ?, ?)\n",
      "2024-06-07 21:41:47,966 INFO sqlalchemy.engine.Engine [generated in 0.00141s] [(1, 'hc75', 'book', 'Hamel, Paul B. and Mary U. Chiltoskey', None, None, None, None, None, None, None, None, None, 'Herald Publishing Co', 'Cherokee Plants and Their Uses -- A 400 Year History', None, None, 1975), (2, 'ws85', 'book', 'Weber, Steven A. and P. David Seaman', None, None, None, None, None, None, None, None, None, 'The University of Arizona Press', \"Havasupai Habitat: A.F. Whiting's Ethnography of a Traditional Indian Culture\", None, None, 1985), (3, 'g83', 'phdthesis', 'Gill, Steven J.', None, None, None, None, None, None, None, None, None, None, 'Ethnobotany of the Makah and Ozette People', None, None, 1983), (4, 'd28', 'article', 'Densmore, Frances', None, None, None, None, 'SI-BAE Annual Report', None, None, None, '273-379', None, 'Uses of Plants by the Chippewa Indians', None, '44', 1928), (5, 'r54', 'book', 'Romero, John Bruno', None, None, None, None, None, None, None, None, None, 'Vantage Press, Inc', 'The Botanical Lore of the California Indians', None, None, 1954), (6, 's15', 'article', 'Stevenson, Matilda Coxe', None, None, None, None, 'SI-BAE Annual Report', None, None, None, None, None, 'Ethnobotany of the Zuni Indians', None, '30', 1915), (7, 'h77', 'phdthesis', 'Herrick, James William', None, None, None, None, None, None, None, None, None, None, 'Iroquois Medical Botany', None, None, 1977), (8, 'r28', 'article', 'Reagan, Albert B.', None, None, None, None, 'Wisconsin Archeologist', None, None, 4.0, '230-248', None, 'Plants Used by the Bois Fort Chippewa (Ojibwa) Indians of Minnesota', None, '7', 1928)  ... displaying 10 of 206 total bound parameter sets ...  (205, 'p37', 'book', 'Porsild, A. E.', None, None, None, None, None, None, None, None, None, 'Canada Department of Mines and Resources, National Museum of Canada', 'Edible Roots and Berries of Northern Canada', None, None, 1937), (206, 'm40', 'article', 'Mandelbaum, David G.', None, None, None, None, 'Anthropological Papers of the American Museum of Natural History', None, None, None, '202-203', None, 'The Plains Cree', None, '37', 1940)]\n",
      "2024-06-07 21:41:47,968 INFO sqlalchemy.engine.Engine COMMIT\n",
      "2024-06-07 21:41:47,969 INFO sqlalchemy.engine.Engine BEGIN (implicit)\n",
      "2024-06-07 21:41:47,973 INFO sqlalchemy.engine.Engine PRAGMA main.table_info(\"usage\")\n",
      "2024-06-07 21:41:47,974 INFO sqlalchemy.engine.Engine [raw sql] ()\n",
      "2024-06-07 21:41:47,974 INFO sqlalchemy.engine.Engine PRAGMA temp.table_info(\"usage\")\n",
      "2024-06-07 21:41:47,975 INFO sqlalchemy.engine.Engine [raw sql] ()\n",
      "2024-06-07 21:41:47,975 INFO sqlalchemy.engine.Engine \n",
      "CREATE TABLE usage (\n",
      "\tuse_id BIGINT, \n",
      "\tspecies_id BIGINT, \n",
      "\ttribe_id BIGINT, \n",
      "\tsource_id BIGINT, \n",
      "\tuse_subcategory_id BIGINT, \n",
      "\tname TEXT\n",
      ")\n",
      "\n",
      "\n",
      "2024-06-07 21:41:47,975 INFO sqlalchemy.engine.Engine [no key 0.00023s] ()\n",
      "2024-06-07 21:41:48,074 INFO sqlalchemy.engine.Engine INSERT INTO usage (use_id, species_id, tribe_id, source_id, use_subcategory_id, name) VALUES (?, ?, ?, ?, ?, ?)\n",
      "2024-06-07 21:41:48,074 INFO sqlalchemy.engine.Engine [generated in 0.07254s] [(1, 1, 21, 53, 25, 'Eye Medicine'), (2, 1, 21, 53, 14, 'Gastrointestinal Aid'), (3, 1, 21, 53, 123, 'Throat Aid'), (4, 1, 21, 53, 49, 'Tuberculosis Remedy'), (5, 1, 86, 166, 69, 'Tonic'), (8, 1, 86, 14, 30, 'Ceremonial Items'), (9, 1, 87, 14, 51, 'Snow Gear'), (10, 1, 88, 14, 14, 'Gastrointestinal Aid')  ... displaying 10 of 41238 total bound parameter sets ...  (44689, 4260, 166, 101, 28, 'Hunting & Fishing Item'), (44691, 4260, 215, 23, 86, 'Spice')]\n",
      "2024-06-07 21:41:48,105 INFO sqlalchemy.engine.Engine COMMIT\n",
      "2024-06-07 21:41:48,112 INFO sqlalchemy.engine.Engine BEGIN (implicit)\n",
      "2024-06-07 21:41:48,136 INFO sqlalchemy.engine.Engine PRAGMA main.table_info(\"np_species\")\n",
      "2024-06-07 21:41:48,136 INFO sqlalchemy.engine.Engine [raw sql] ()\n",
      "2024-06-07 21:41:48,137 INFO sqlalchemy.engine.Engine PRAGMA temp.table_info(\"np_species\")\n",
      "2024-06-07 21:41:48,137 INFO sqlalchemy.engine.Engine [raw sql] ()\n",
      "2024-06-07 21:41:48,138 INFO sqlalchemy.engine.Engine \n",
      "CREATE TABLE np_species (\n",
      "\torg_id TEXT, \n",
      "\torg_name TEXT, \n",
      "\torg_tax_level TEXT, \n",
      "\torg_tax_id TEXT, \n",
      "\tsubspecies_tax_id TEXT, \n",
      "\tsubspecies_name TEXT, \n",
      "\tspecies_tax_id TEXT, \n",
      "\tspecies_name TEXT, \n",
      "\tgenus_tax_id TEXT, \n",
      "\tgenus_name TEXT, \n",
      "\tfamily_tax_id TEXT, \n",
      "\tfamily_name TEXT, \n",
      "\tkingdom_tax_id TEXT, \n",
      "\tkingdom_name TEXT, \n",
      "\tsuperkingdom_tax_id TEXT, \n",
      "\tsuperkingdom_name TEXT\n",
      ")\n",
      "\n",
      "\n",
      "2024-06-07 21:41:48,139 INFO sqlalchemy.engine.Engine [no key 0.00036s] ()\n",
      "2024-06-07 21:41:48,266 INFO sqlalchemy.engine.Engine INSERT INTO np_species (org_id, org_name, org_tax_level, org_tax_id, subspecies_tax_id, subspecies_name, species_tax_id, species_name, genus_tax_id, genus_name, family_tax_id, family_name, kingdom_tax_id, kingdom_name, superkingdom_tax_id, superkingdom_name) VALUES (?, ?, ?, ?, ?, ?, ?, ?, ?, ?, ?, ?, ?, ?, ?, ?)\n",
      "2024-06-07 21:41:48,266 INFO sqlalchemy.engine.Engine [generated in 0.09395s] [('NPO10475', 'Falkenbergia rufolanosa', 'n.a.', 'n.a.', 'n.a.', 'n.a.', 'n.a.', 'n.a.', 'n.a.', 'n.a.', 'n.a.', 'n.a.', 'n.a.', 'n.a.', 'n.a.', 'n.a.'), ('NPO2250', 'Hylocomium splendens', 'Species', '53007', 'n.a.', 'n.a.', '53007', 'Hylocomium splendens', '53006', 'Hylocomium', '28466', 'Hylocomiaceae', '33090', 'Viridiplantae', '2759', 'Eukaryota'), ('NPO21185', 'Manica rubida', 'Species', '219785', 'n.a.', 'n.a.', '219785', 'Manica rubida', '219784', 'Manica', '36668', 'Formicidae', '33208', 'Metazoa', '2759', 'Eukaryota'), ('NPO13272', 'Ulva lactuca', 'Species', '63410', 'n.a.', 'n.a.', '63410', 'Ulva lactuca', '3118', 'Ulva', '3114', 'Ulvaceae', '33090', 'Viridiplantae', '2759', 'Eukaryota'), ('NPO9728', 'Quercus acuta', 'Species', '157796', 'n.a.', 'n.a.', '157796', 'Quercus acuta', '3511', 'Quercus', '3503', 'Fagaceae', '33090', 'Viridiplantae', '2759', 'Eukaryota'), ('NPO24443', 'Artemisia baldshuanica', 'Species', '1287601', 'n.a.', 'n.a.', '1287601', 'Artemisia baldshuanica', '4219', 'Artemisia', '4210', 'Asteraceae', '33090', 'Viridiplantae', '2759', 'Eukaryota'), ('NPO32957', 'Acanthodendrilla sp.', 'Species', 'n.a.', 'n.a.', 'n.a.', 'n.a.', 'n.a.', '558782', 'Acanthodendrilla', '283990', 'Dictyodendrillidae', '33208', 'Metazoa', '2759', 'Eukaryota'), ('NPO24350', 'Hammarbya paludosa', 'Species', '1155243', 'n.a.', 'n.a.', '1155243', 'Hammarbya paludosa', '1155242', 'Hammarbya', '4747', 'Orchidaceae', '33090', 'Viridiplantae', '2759', 'Eukaryota')  ... displaying 10 of 25898 total bound parameter sets ...  ('NPO8723', 'Ophiostoma piliferum', 'Species', '38032', 'n.a.', 'n.a.', '38032', 'Ophiostoma piliferum', '5159', 'Ophiostoma', '5152', 'Ophiostomataceae', '4751', 'Fungi', '2759', 'Eukaryota'), ('NPO21631', 'Faramea salicifolia', 'Species', 'n.a.', 'n.a.', 'n.a.', 'n.a.', 'n.a.', '58420', 'Faramea', '24966', 'Rubiaceae', '33090', 'Viridiplantae', '2759', 'Eukaryota')]\n",
      "2024-06-07 21:41:48,319 INFO sqlalchemy.engine.Engine COMMIT\n",
      "2024-06-07 21:41:48,325 INFO sqlalchemy.engine.Engine BEGIN (implicit)\n",
      "2024-06-07 21:41:48,723 INFO sqlalchemy.engine.Engine PRAGMA main.table_info(\"np\")\n",
      "2024-06-07 21:41:48,724 INFO sqlalchemy.engine.Engine [raw sql] ()\n",
      "2024-06-07 21:41:48,725 INFO sqlalchemy.engine.Engine PRAGMA temp.table_info(\"np\")\n",
      "2024-06-07 21:41:48,726 INFO sqlalchemy.engine.Engine [raw sql] ()\n",
      "2024-06-07 21:41:48,727 INFO sqlalchemy.engine.Engine \n",
      "CREATE TABLE np (\n",
      "\tsrc_org_pair TEXT, \n",
      "\torg_id TEXT, \n",
      "\tnp_id TEXT, \n",
      "\tnew_cp_found TEXT, \n",
      "\torg_isolation_part TEXT, \n",
      "\torg_collect_location TEXT, \n",
      "\torg_collect_time TEXT, \n",
      "\tref_type TEXT, \n",
      "\tref_id TEXT, \n",
      "\tref_id_type TEXT, \n",
      "\tref_url TEXT\n",
      ")\n",
      "\n",
      "\n",
      "2024-06-07 21:41:48,727 INFO sqlalchemy.engine.Engine [no key 0.00026s] ()\n",
      "2024-06-07 21:41:52,948 INFO sqlalchemy.engine.Engine INSERT INTO np (src_org_pair, org_id, np_id, new_cp_found, org_isolation_part, org_collect_location, org_collect_time, ref_type, ref_id, ref_id_type, ref_url) VALUES (?, ?, ?, ?, ?, ?, ?, ?, ?, ?, ?)\n",
      "2024-06-07 21:41:52,949 INFO sqlalchemy.engine.Engine [generated in 3.26638s] [('NPO27288-NPC251357', 'NPO27288', 'NPC251357', 'n.a.', 'n.a.', 'n.a.', 'n.a.', 'Database', 'TM-MC', 'Database', 'n.a.'), ('NPO8589-NPC116013', 'NPO8589', 'NPC116013', 'N', 'n.a.', 'Tsukuba, Japan', '1998-JUN', 'Publication', '12381108', 'PMID', 'https://pubmed.ncbi.nlm.nih.gov/12381108'), ('NPO14625-NPC39', 'NPO14625', 'NPC39', 'n.a.', 'n.a.', 'n.a.', 'n.a.', 'Database', 'UNPD', 'Database', 'n.a.'), ('NPO16590-NPC190457', 'NPO16590', 'NPC190457', 'n.a.', 'n.a.', 'n.a.', 'n.a.', 'Database', 'UNPD', 'Database', 'n.a.'), ('NPO6861-NPC13143', 'NPO6861', 'NPC13143', 'n.a.', 'n.a.', 'n.a.', 'n.a.', 'Database', 'UNPD', 'Database', 'n.a.'), ('NPO24757-NPC473714', 'NPO24757', 'NPC473714', 'n.a.', 'n.a.', 'n.a.', 'n.a.', 'Publication', '18442289', 'PMID', 'https://pubmed.ncbi.nlm.nih.gov/18442289'), ('NPO9576-NPC254190', 'NPO9576', 'NPC254190', 'n.a.', 'n.a.', 'n.a.', 'n.a.', 'Database', 'UNPD', 'Database', 'n.a.'), ('NPO22028-NPC242417', 'NPO22028', 'NPC242417', 'n.a.', 'n.a.', 'n.a.', 'n.a.', 'Database', 'UNPD', 'Database', 'n.a.')  ... displaying 10 of 898576 total bound parameter sets ...  ('NPO7576.2-NPC301950', 'NPO7576.2', 'NPC301950', 'No', 'n.a.', 'n.a.', 'n.a.', 'Publication', '18460139', 'PMID', 'https://pubmed.ncbi.nlm.nih.gov/18460139'), ('NPO7576.2-NPC50898', 'NPO7576.2', 'NPC50898', 'No', 'n.a.', 'n.a.', 'n.a.', 'Publication', '18460139', 'PMID', 'https://pubmed.ncbi.nlm.nih.gov/18460139')]\n",
      "2024-06-07 21:41:54,659 INFO sqlalchemy.engine.Engine COMMIT\n",
      "2024-06-07 21:41:54,673 INFO sqlalchemy.engine.Engine BEGIN (implicit)\n",
      "2024-06-07 21:41:54,852 INFO sqlalchemy.engine.Engine PRAGMA main.table_info(\"target\")\n",
      "2024-06-07 21:41:54,852 INFO sqlalchemy.engine.Engine [raw sql] ()\n",
      "2024-06-07 21:41:54,853 INFO sqlalchemy.engine.Engine PRAGMA temp.table_info(\"target\")\n",
      "2024-06-07 21:41:54,853 INFO sqlalchemy.engine.Engine [raw sql] ()\n",
      "2024-06-07 21:41:54,854 INFO sqlalchemy.engine.Engine \n",
      "CREATE TABLE target (\n",
      "\ttarget_id TEXT, \n",
      "\ttarget_type TEXT, \n",
      "\ttarget_name TEXT, \n",
      "\ttarget_organism_tax_id TEXT, \n",
      "\ttarget_organism TEXT, \n",
      "\tuniprot_id TEXT, \n",
      "\tnp_id TEXT, \n",
      "\tactivity_type_grouped TEXT, \n",
      "\tactivity_relation TEXT, \n",
      "\tactivity_type TEXT, \n",
      "\tactivity_value FLOAT, \n",
      "\tactivity_units TEXT, \n",
      "\tassay_organism TEXT, \n",
      "\tassay_tax_id TEXT, \n",
      "\tassay_strain TEXT, \n",
      "\tassay_tissue TEXT, \n",
      "\tassay_cell_type TEXT, \n",
      "\tref_id TEXT, \n",
      "\tref_id_type TEXT\n",
      ")\n",
      "\n",
      "\n",
      "2024-06-07 21:41:54,855 INFO sqlalchemy.engine.Engine [no key 0.00052s] ()\n",
      "2024-06-07 21:42:01,110 INFO sqlalchemy.engine.Engine INSERT INTO target (target_id, target_type, target_name, target_organism_tax_id, target_organism, uniprot_id, np_id, activity_type_grouped, activity_relation, activity_type, activity_value, activity_units, assay_organism, assay_tax_id, assay_strain, assay_tissue, assay_cell_type, ref_id, ref_id_type) VALUES (?, ?, ?, ?, ?, ?, ?, ?, ?, ?, ?, ?, ?, ?, ?, ?, ?, ?, ?)\n",
      "2024-06-07 21:42:01,111 INFO sqlalchemy.engine.Engine [generated in 4.92934s] [('NPT1031', 'Cell Line', 'Ca9-22', '9606', 'Homo sapiens', None, 'NPC170286', 'IC50', '=', 'IC50', 1.2, 'ug.mL-1', 'Homo sapiens', '9606', 'n.a.', 'n.a.', 'Ca9-22', 448657, 'PMID'), ('NPT1031', 'Cell Line', 'Ca9-22', '9606', 'Homo sapiens', None, 'NPC277288', 'IC50', '=', 'IC50', 16.48, 'ug.mL-1', 'Homo sapiens', '9606', 'n.a.', 'n.a.', 'Ca9-22', 453277, 'PMID'), ('NPT1031', 'Cell Line', 'Ca9-22', '9606', 'Homo sapiens', None, 'NPC243728', 'IC50', '>', 'IC50', 20.0, 'ug.mL-1', 'Homo sapiens', '9606', 'n.a.', 'n.a.', 'Ca9-22', 453516, 'PMID'), ('NPT1031', 'Cell Line', 'Ca9-22', '9606', 'Homo sapiens', None, 'NPC192744', 'IC50', '=', 'IC50', 14.47, 'ug.mL-1', 'Homo sapiens', '9606', 'n.a.', 'n.a.', 'Ca9-22', 453792, 'PMID'), ('NPT1031', 'Cell Line', 'Ca9-22', '9606', 'Homo sapiens', None, 'NPC267691', 'IC50', '=', 'IC50', 18.04, 'ug.mL-1', 'Homo sapiens', '9606', 'n.a.', 'n.a.', 'Ca9-22', 454286, 'PMID'), ('NPT1031', 'Cell Line', 'Ca9-22', '9606', 'Homo sapiens', None, 'NPC246913', 'IC50', '=', 'IC50', 20.0, 'ug.mL-1', 'Homo sapiens', '9606', 'n.a.', 'n.a.', 'Ca9-22', 456132, 'PMID'), ('NPT1031', 'Cell Line', 'Ca9-22', '9606', 'Homo sapiens', None, 'NPC75844', 'Others', '=', 'CC50', 262000.0, 'nM', 'Homo sapiens', '9606', 'n.a.', 'n.a.', 'Ca9-22', 458080, 'PMID'), ('NPT1031', 'Cell Line', 'Ca9-22', '9606', 'Homo sapiens', None, 'NPC272223', 'IC50', '=', 'IC50', 11000.0, 'nM', 'Homo sapiens', '9606', 'n.a.', 'n.a.', 'Ca9-22', 458270, 'PMID')  ... displaying 10 of 965367 total bound parameter sets ...  ('NPT28315', 'ORGANISM', 'Candida auris', '498019', 'Candida auris', 'n.a.', 'NPC331129', 'MIC', '>', 'MIC', 0.064, 'ug.mL-1', 'Candida auris', '498019', 'CBS 12766', 'n.a.', 'n.a.', '33335669', 'PMID'), ('NPT28317', 'SINGLE PROTEIN', 'ATP-dependent Clp protease ATP-binding subunit clpX-like, mitochondrial', '9606', 'Homo sapiens', 'O76031', 'NPC20302', 'IC50', '=', 'IC50', 9500.0, 'nM', 'Homo sapiens', '9606', 'n.a.', 'n.a.', 'n.a.', '575308', 'PMID')]\n",
      "2024-06-07 21:42:03,577 INFO sqlalchemy.engine.Engine COMMIT\n"
     ]
    },
    {
     "data": {
      "text/plain": "965367"
     },
     "execution_count": 136,
     "metadata": {},
     "output_type": "execute_result"
    }
   ],
   "source": [
    "# storing the dataframes into the database\n",
    "species.to_sql('species', con=engine, if_exists='replace', index=False)\n",
    "sources.to_sql('sources', con=engine, if_exists='replace', index=False)\n",
    "usage.to_sql('usage', con=engine, if_exists='replace', index=False)\n",
    "np_species.to_sql('np_species', con=engine, if_exists='replace', index=False)\n",
    "np.to_sql('np', con=engine, if_exists='replace', index=False)\n",
    "target.to_sql('target', con=engine, if_exists='replace', index=False)"
   ],
   "metadata": {
    "collapsed": false,
    "ExecuteTime": {
     "end_time": "2024-06-07T19:42:03.594782Z",
     "start_time": "2024-06-07T19:41:47.912777Z"
    }
   },
   "id": "c47737ebecc9b379",
   "execution_count": 136
  },
  {
   "cell_type": "code",
   "outputs": [
    {
     "name": "stdout",
     "output_type": "stream",
     "text": [
      "2024-06-07 23:17:58,320 INFO sqlalchemy.engine.Engine BEGIN (implicit)\n",
      "2024-06-07 23:17:58,401 INFO sqlalchemy.engine.Engine PRAGMA main.table_info(\"compound\")\n",
      "2024-06-07 23:17:58,401 INFO sqlalchemy.engine.Engine [raw sql] ()\n",
      "2024-06-07 23:17:58,403 INFO sqlalchemy.engine.Engine PRAGMA temp.table_info(\"compound\")\n",
      "2024-06-07 23:17:58,403 INFO sqlalchemy.engine.Engine [raw sql] ()\n",
      "2024-06-07 23:17:58,405 INFO sqlalchemy.engine.Engine \n",
      "CREATE TABLE compound (\n",
      "\tnp_id TEXT, \n",
      "\tpref_name TEXT, \n",
      "\tiupac_name TEXT, \n",
      "\tchembl_id TEXT, \n",
      "\tpubchem_cid TEXT, \n",
      "\tnum_of_organism FLOAT, \n",
      "\tnum_of_target FLOAT, \n",
      "\tnum_of_activity FLOAT, \n",
      "\t\"if_has_Quantity\" TEXT\n",
      ")\n",
      "\n",
      "\n",
      "2024-06-07 23:17:58,406 INFO sqlalchemy.engine.Engine [no key 0.00030s] ()\n",
      "2024-06-07 23:17:58,898 INFO sqlalchemy.engine.Engine INSERT INTO compound (np_id, pref_name, iupac_name, chembl_id, pubchem_cid, num_of_organism, num_of_target, num_of_activity, \"if_has_Quantity\") VALUES (?, ?, ?, ?, ?, ?, ?, ?, ?)\n",
      "2024-06-07 23:17:58,899 INFO sqlalchemy.engine.Engine [generated in 0.38787s] [('NPC100002', 'Dibromomethane', 'dibromomethane', 'CHEMBL1229889', '3024', 4.0, 1.0, 3.0, 'No'), ('NPC100005', 'MXFUWJQZQGWIOY-FETLVNPKSA-N', 'n.a.', 'n.a.', '101412375', 7.0, 0.0, 0.0, 'No'), ('NPC100008', 'WPYIYVXSMXASQL-PEBLQZBPSA-N', 'n.a.', 'n.a.', '14583329', 16.0, 0.0, 0.0, 'No'), ('NPC10001', 'LTNUWWZNTOSEML-SNLNFDIBSA-N', 'n.a.', 'n.a.', 'n.a.', 1.0, 4.0, 4.0, 'No'), ('NPC100016', 'KKFCJNGKHYRAPZ-MPCIYCNASA-N', 'n.a.', 'n.a.', 'n.a.', 13.0, 0.0, 0.0, 'No'), ('NPC100017', 'Yuanhuadine', 'n.a.', 'CHEMBL1911631', '6440572', 1.0, 26.0, 57.0, 'No'), ('NPC100020', 'LDNLPQJLCPARJX-SANMLTNESA-N', 'n.a.', 'n.a.', 'n.a.', 9.0, 0.0, 0.0, 'No'), ('NPC100031', 'YPRVNVFJGQUFKN-QFQUXZBZSA-O', 'n.a.', 'n.a.', '10897548', 1.0, 0.0, 0.0, 'No')  ... displaying 10 of 96420 total bound parameter sets ...  ('NPC99991', 'OBNQCTKSFBMUDQ-UQOODKLHSA-N', 'n.a.', 'n.a.', 'n.a.', 3.0, 0.0, 0.0, 'No'), ('NPC99998', 'UYLHQHLKCSJVJP-WGSLJMJZSA-N', 'n.a.', 'n.a.', 'n.a.', 19.0, 0.0, 0.0, 'No')]\n",
      "2024-06-07 23:17:59,020 INFO sqlalchemy.engine.Engine COMMIT\n",
      "2024-06-07 23:17:59,031 INFO sqlalchemy.engine.Engine BEGIN (implicit)\n",
      "2024-06-07 23:17:59,483 INFO sqlalchemy.engine.Engine PRAGMA main.table_info(\"chembl_lookup\")\n",
      "2024-06-07 23:17:59,484 INFO sqlalchemy.engine.Engine [raw sql] ()\n",
      "2024-06-07 23:17:59,484 INFO sqlalchemy.engine.Engine PRAGMA temp.table_info(\"chembl_lookup\")\n",
      "2024-06-07 23:17:59,484 INFO sqlalchemy.engine.Engine [raw sql] ()\n",
      "2024-06-07 23:17:59,485 INFO sqlalchemy.engine.Engine \n",
      "CREATE TABLE chembl_lookup (\n",
      "\tchembl_id TEXT, \n",
      "\tentity_type TEXT, \n",
      "\tentity_id BIGINT, \n",
      "\tstatus TEXT, \n",
      "\tlast_active FLOAT\n",
      ")\n",
      "\n",
      "\n",
      "2024-06-07 23:17:59,485 INFO sqlalchemy.engine.Engine [no key 0.00033s] ()\n",
      "2024-06-07 23:18:12,104 INFO sqlalchemy.engine.Engine INSERT INTO chembl_lookup (chembl_id, entity_type, entity_id, status, last_active) VALUES (?, ?, ?, ?, ?)\n",
      "2024-06-07 23:18:12,106 INFO sqlalchemy.engine.Engine [generated in 10.31633s] [('CHEMBL1', 'COMPOUND', 517180, 'ACTIVE', 34.0), ('CHEMBL10', 'COMPOUND', 250, 'ACTIVE', 34.0), ('CHEMBL100', 'COMPOUND', 12356, 'ACTIVE', 34.0), ('CHEMBL1000', 'COMPOUND', 111185, 'ACTIVE', 34.0), ('CHEMBL10000', 'COMPOUND', 7079, 'ACTIVE', 34.0), ('CHEMBL100000', 'COMPOUND', 166734, 'INACTIVE', None), ('CHEMBL1000000', 'ASSAY', 551205, 'ACTIVE', 34.0), ('CHEMBL1000001', 'ASSAY', 551206, 'ACTIVE', 34.0)  ... displaying 10 of 4640251 total bound parameter sets ...  ('CHEMBL999998', 'ASSAY', 551203, 'ACTIVE', 34.0), ('CHEMBL999999', 'ASSAY', 551204, 'ACTIVE', 34.0)]\n",
      "2024-06-07 23:18:17,826 INFO sqlalchemy.engine.Engine COMMIT\n",
      "2024-06-07 23:18:17,835 INFO sqlalchemy.engine.Engine BEGIN (implicit)\n",
      "2024-06-07 23:18:18,231 INFO sqlalchemy.engine.Engine PRAGMA main.table_info(\"compound_records\")\n",
      "2024-06-07 23:18:18,232 INFO sqlalchemy.engine.Engine [raw sql] ()\n",
      "2024-06-07 23:18:18,232 INFO sqlalchemy.engine.Engine PRAGMA temp.table_info(\"compound_records\")\n",
      "2024-06-07 23:18:18,233 INFO sqlalchemy.engine.Engine [raw sql] ()\n",
      "2024-06-07 23:18:18,234 INFO sqlalchemy.engine.Engine \n",
      "CREATE TABLE compound_records (\n",
      "\trecord_id BIGINT, \n",
      "\tmolregno BIGINT, \n",
      "\tdoc_id BIGINT, \n",
      "\tcompound_key TEXT, \n",
      "\tcompound_name TEXT, \n",
      "\tsrc_id BIGINT, \n",
      "\tsrc_compound_id TEXT, \n",
      "\tcidx TEXT\n",
      ")\n",
      "\n",
      "\n",
      "2024-06-07 23:18:18,234 INFO sqlalchemy.engine.Engine [no key 0.00035s] ()\n",
      "2024-06-07 23:18:28,439 INFO sqlalchemy.engine.Engine INSERT INTO compound_records (record_id, molregno, doc_id, compound_key, compound_name, src_id, src_compound_id, cidx) VALUES (?, ?, ?, ?, ?, ?, ?, ?)\n",
      "2024-06-07 23:18:28,441 INFO sqlalchemy.engine.Engine [generated in 8.35386s] [(1, 1798298, 11788, 'X', 'Bis(3-[14-Benzyl-11-(1H-indol-3-ylmethyl)-2-isobutyl-13-methyl-5-(2-methylsulfanyl-ethyl)-3,6,9,12,15,20-hexaoxo-1,4,7,10,13,16-hexaaza-bicyclo[15.2.1]icos-18-en-8-yl]-propionamide)', 1, None, 'CLD0'), (2, 1798410, 11788, 'V', '3-[11,14-Dibenzyl-2-isobutyl-5-(2-methylsulfanyl-ethyl)-3,6,9,12,15,20-hexaoxo-1,4,7,10,13,16-hexaaza-bicyclo[15.2.1]icos-18-en-8-yl]-propionamide', 1, None, 'CLD0'), (3, 1798299, 11788, 'IX', '3-[14-Benzyl-11-(1H-indol-3-ylmethyl)-2-isobutyl-13-methyl-5-(2-methylsulfanyl-ethyl)-3,6,9,12,15,20-hexaoxo-1,4,7,10,13,16-hexaaza-bicyclo[15.2.1]icos-18-en-8-yl]-propionamide', 1, None, 'CLD0'), (4, 1798271, 11788, 'IV', '11,14-Dibenzyl-2-isobutyl-8-methyl-5-(2-methylsulfanyl-ethyl)-1,4,7,10,13,16-hexaaza-bicyclo[15.2.1]icos-18-ene-3,6,9,12,15,20-hexaone', 1, None, 'CLD0'), (5, 1798623, 11788, 'XVI', '3-[17-Benzyl-14-(1H-indol-3-ylmethyl)-2-isobutyl-5-(2-methylsulfanyl-ethyl)-3,6,9,12,15,18,23-heptaoxo-1,4,7,10,13,16,19-heptaaza-bicyclo[18.2.1]tricos-21-en-11-yl]-propionamide', 1, None, 'CLD0'), (6, 1798230, 11788, 'XIX', '3-[5-Benzyl-8-(1H-indol-3-ylmethyl)-17-isobutyl-14-(2-methylsulfanyl-ethyl)-4,7,10,13,16,19-hexaoxo-octadecahydro-3a,6,9,12,15,18-hexaaza-cyclopentacyclooctadecen-11-yl]-propionamide', 1, None, 'CLD0'), (7, 1798624, 11788, 'III', '11,14-Dibenzyl-2-isobutyl-5-(2-methylsulfanyl-ethyl)-1,4,7,10,13,16-hexaaza-bicyclo[15.2.1]icos-18-ene-3,6,9,12,15,20-hexaone', 1, None, 'CLD0'), (8, 1798627, 11788, 'VII', '14-Benzyl-2-isobutyl-11-methyl-5-(2-methylsulfanyl-ethyl)-11-naphthalen-1-yl-1,4,7,10,13,16-hexaaza-bicyclo[15.2.1]icos-18-ene-3,6,9,12,15,20-hexaone', 1, None, 'CLD0')  ... displaying 10 of 3106257 total bound parameter sets ...  (3956848, 2832783, -1, 'TAFLUPROST ACID', 'TAFLUPROST ACID', 53, '25707', '25707'), (3956849, 2832784, -1, 'U-76074', 'U-76074', 53, '25709', '25709')]\n",
      "2024-06-07 23:18:34,151 INFO sqlalchemy.engine.Engine COMMIT\n",
      "2024-06-07 23:18:34,163 INFO sqlalchemy.engine.Engine BEGIN (implicit)\n",
      "2024-06-07 23:18:34,170 INFO sqlalchemy.engine.Engine PRAGMA main.table_info(\"target_records\")\n",
      "2024-06-07 23:18:34,171 INFO sqlalchemy.engine.Engine [raw sql] ()\n",
      "2024-06-07 23:18:34,171 INFO sqlalchemy.engine.Engine PRAGMA temp.table_info(\"target_records\")\n",
      "2024-06-07 23:18:34,172 INFO sqlalchemy.engine.Engine [raw sql] ()\n",
      "2024-06-07 23:18:34,173 INFO sqlalchemy.engine.Engine \n",
      "CREATE TABLE target_records (\n",
      "\ttid BIGINT, \n",
      "\ttarget_type TEXT, \n",
      "\tpref_name TEXT, \n",
      "\ttax_id FLOAT, \n",
      "\torganism TEXT, \n",
      "\tchembl_id TEXT, \n",
      "\tspecies_group_flag BIGINT\n",
      ")\n",
      "\n",
      "\n",
      "2024-06-07 23:18:34,173 INFO sqlalchemy.engine.Engine [no key 0.00028s] ()\n",
      "2024-06-07 23:18:34,212 INFO sqlalchemy.engine.Engine INSERT INTO target_records (tid, target_type, pref_name, tax_id, organism, chembl_id, species_group_flag) VALUES (?, ?, ?, ?, ?, ?, ?)\n",
      "2024-06-07 23:18:34,213 INFO sqlalchemy.engine.Engine [generated in 0.02718s] [(1, 'SINGLE PROTEIN', 'Maltase-glucoamylase', 9606.0, 'Homo sapiens', 'CHEMBL2074', 0), (2, 'SINGLE PROTEIN', 'Sulfonylurea receptor 2', 9606.0, 'Homo sapiens', 'CHEMBL1971', 0), (3, 'SINGLE PROTEIN', 'Phosphodiesterase 5A', 9606.0, 'Homo sapiens', 'CHEMBL1827', 0), (4, 'SINGLE PROTEIN', 'Voltage-gated T-type calcium channel alpha-1H subunit', 9606.0, 'Homo sapiens', 'CHEMBL1859', 0), (5, 'SINGLE PROTEIN', 'Nicotinic acetylcholine receptor alpha subunit', 6253.0, 'Ascaris suum', 'CHEMBL1884', 0), (6, 'SINGLE PROTEIN', 'Dihydrofolate reductase', 9606.0, 'Homo sapiens', 'CHEMBL202', 0), (7, 'SINGLE PROTEIN', 'Dihydrofolate reductase', 562.0, 'Escherichia coli', 'CHEMBL1809', 0), (8, 'SINGLE PROTEIN', 'Tyrosine-protein kinase ABL', 9606.0, 'Homo sapiens', 'CHEMBL1862', 0)  ... displaying 10 of 15598 total bound parameter sets ...  (121167, 'CELL-LINE', 'Peritoneal macrophage', 10116.0, 'Rattus norvegicus', 'CHEMBL5314331', 0), (121168, 'CELL-LINE', 'T cell', 9544.0, 'Macaca mulatta', 'CHEMBL5314332', 0)]\n",
      "2024-06-07 23:18:34,234 INFO sqlalchemy.engine.Engine COMMIT\n",
      "2024-06-07 23:18:34,236 INFO sqlalchemy.engine.Engine BEGIN (implicit)\n",
      "2024-06-07 23:18:34,398 INFO sqlalchemy.engine.Engine PRAGMA main.table_info(\"docs\")\n",
      "2024-06-07 23:18:34,398 INFO sqlalchemy.engine.Engine [raw sql] ()\n",
      "2024-06-07 23:18:34,399 INFO sqlalchemy.engine.Engine PRAGMA temp.table_info(\"docs\")\n",
      "2024-06-07 23:18:34,399 INFO sqlalchemy.engine.Engine [raw sql] ()\n",
      "2024-06-07 23:18:34,400 INFO sqlalchemy.engine.Engine \n",
      "CREATE TABLE docs (\n",
      "\tdoc_id BIGINT, \n",
      "\tjournal TEXT, \n",
      "\tyear FLOAT, \n",
      "\tvolume TEXT, \n",
      "\tissue TEXT, \n",
      "\tfirst_page TEXT, \n",
      "\tlast_page TEXT, \n",
      "\tpubmed_id FLOAT, \n",
      "\tdoi TEXT, \n",
      "\tchembl_id TEXT, \n",
      "\ttitle TEXT, \n",
      "\tdoc_type TEXT, \n",
      "\tauthors TEXT, \n",
      "\tabstract TEXT, \n",
      "\tpatent_id TEXT, \n",
      "\tridx TEXT, \n",
      "\tsrc_id BIGINT, \n",
      "\tchembl_release_id BIGINT, \n",
      "\tcontact TEXT\n",
      ")\n",
      "\n",
      "\n",
      "2024-06-07 23:18:34,400 INFO sqlalchemy.engine.Engine [no key 0.00023s] ()\n",
      "2024-06-07 23:18:34,886 INFO sqlalchemy.engine.Engine INSERT INTO docs (doc_id, journal, year, volume, issue, first_page, last_page, pubmed_id, doi, chembl_id, title, doc_type, authors, abstract, patent_id, ridx, src_id, chembl_release_id, contact) VALUES (?, ?, ?, ?, ?, ?, ?, ?, ?, ?, ?, ?, ?, ?, ?, ?, ?, ?, ?)\n",
      "2024-06-07 23:18:34,886 INFO sqlalchemy.engine.Engine [generated in 0.35392s] [(-1, None, None, None, None, None, None, None, None, 'CHEMBL1158643', 'Unpublished dataset', 'DATASET', None, None, None, 'CLD0', 0, 7, None), (1, 'J Med Chem', 2004.0, '47', '1', '1', '9', 14695813.0, '10.1021/jm030283g', 'CHEMBL1139451', 'The discovery of ezetimibe: a view from outside the receptor.', 'PUBLICATION', 'Clader JW.', None, None, 'CLD0', 1, 1, None), (2, 'J Med Chem', 2004.0, '47', '1', '10', '13', 14695814.0, '10.1021/jm034189b', 'CHEMBL1148466', 'Self-association of okadaic acid upon complexation with potassium ion.', 'PUBLICATION', 'Daranas AH, Fernández JJ, Morales EQ, Norte M, Gavín JA.', 'Okadaic acid (OA) is a toxin responsible for diarrhetic shellfish poisoning and is an extremely useful tool for studying processes that are regulated ... (139 characters truncated) ... an unusual dimeric form when complexed with potassium ion. The proposed structure of this dimer is based on spectroscopic and conformational studies.', None, 'CLD0', 1, 1, None), (3, 'J Med Chem', 2004.0, '47', '1', '101', '109', 14695824.0, '10.1021/jm030287l', 'CHEMBL1139452', 'Synthesis and structure-activity relationships of 5,6,7,8-tetrahydro-4H-thieno[3,2-b]azepine derivatives: novel arginine vasopressin antagonists.', 'PUBLICATION', 'Cho H, Murakami K, Nakanishi H, Fujisawa A, Isoshima H, Niwa M, Hayakawa K, Hase Y, Uchida I, Watanabe H, Wakitani K, Aisaka K.', 'A variety of novel heterocyclic compounds having thienoazepine, pyrroloazepine, furoazepine, and thienodiazepine skeletons were synthesized, most of  ... (560 characters truncated) ...  properties, the hydrochloride 2 (JTV-605) of compound 1 was selected for clinical studies as a potent AVP antagonist with a long duration of action.', None, 'CLD0', 1, 1, None), (4, 'J Med Chem', 2004.0, '47', '1', '110', '122', 14695825.0, '10.1021/jm030933g', 'CHEMBL1139453', 'Potent inhibitors of the Plasmodium falciparum enzymes plasmepsin I and II devoid of cathepsin D inhibitory activity.', 'PUBLICATION', 'Ersmark K, Feierberg I, Bjelic S, Hamelink E, Hackett F, Blackman MJ, Hultén J, Samuelsson B, Aqvist J, Hallberg A.', \"The hemoglobin-degrading aspartic proteases plasmepsin I (Plm I) and plasmepsin II (Plm II) of the malaria parasite Plasmodium falciparum have lately ... (837 characters truncated) ... nowledge, these plasmepsin inhibitors represent the most selective reported to date and constitute promising lead compounds for further optimization.\", None, 'CLD0', 1, 1, None), (5, 'J Med Chem', 2004.0, '47', '1', '123', '132', 14695826.0, '10.1021/jm0303002', 'CHEMBL1139454', 'NMR structural characterization of peptide inhibitors bound to the Hepatitis C virus NS3 protease: design of a new P2 substituent.', 'PUBLICATION', 'Goudreau N, Cameron DR, Bonneau P, Gorys V, Plouffe C, Poirier M, Lamarre D, Llinas-Brunet M.', 'A comparative NMR conformational analysis of three distinct tetrapeptide inhibitors of the Hepatitis C NS3 protease that differ at the 4-aryloxy-subs ... (783 characters truncated) ... residue of the substrates and/or inhibitors and further elucidates the subtle details of the binding of the P2 residue of substrate-based inhibitors.', None, 'CLD0', 1, 1, None), (6, 'J Med Chem', 2004.0, '47', '1', '133', '142', 14695827.0, '10.1021/jm030351z', 'CHEMBL1139455', 'Three-dimensional quantitative structure-activity relationship modeling of cocaine binding by a novel human monoclonal antibody.', 'PUBLICATION', 'Paula S, Tabet MR, Farr CD, Norman AB, Ball WJ.', 'Human monoclonal antibodies (mAbs) designed for immunotherapy have a high potential for avoiding the complications that may result from human immune  ... (1494 characters truncated) ... . Overall, the cocaine binding properties of mAb 2E2 support its clinical potential for development as a treatment of cocaine overdose and addiction.', None, 'CLD0', 1, 1, None), (7, 'J Med Chem', 2004.0, '47', '1', '14', '17', 14695815.0, '10.1021/jm0342109', 'CHEMBL1139456', 'Discovery of alpha,gamma-diketo acids as potent selective and reversible inhibitors of hepatitis C virus NS5b RNA-dependent RNA polymerase.', 'PUBLICATION', 'Summa V, Petrocchi A, Pace P, Matassa VG, De Francesco R, Altamura S, Tomei L, Koch U, Neuner P.', 'alpha,gamma-Diketo acids (DKA) were discovered from screening as selective and reversible inhibitors of hepatitis C virus NS5b RNA-dependent RNA poly ... (158 characters truncated) ...  led to the identification of a DKA inhibitor of NS5b polymerase with IC(50) = 45 nM, one of the most potent HCV NS5b polymerase inhibitors reported.', None, 'CLD0', 1, 1, None)  ... displaying 10 of 89892 total bound parameter sets ...  (126246, None, 2023.0, None, None, None, None, None, '10.6019/CHEMBL5308504', 'CHEMBL5308504', 'Tm Shift (DSF) assay results for EUbOPEN Chemogenomics Library', 'DATASET', 'EUbOPEN', 'DSF assay results for EUbOPEN Chemogenomics Library: Differential Scanning Fluorimetry (DSF) measures protein unfolding by monitory changes in fluorescence as a function of temperature (dTm values). Conventional DSF uses a hydrophobic fluorescent dye that binds to proteins as they unfold.', None, 'EUbOPEN Chemogenomics Library - DSF', 55, 34, None), (126266, 'ACS Med Chem Lett', 2023.0, '14', '12', '1733', '1741', 38116432.0, '10.1021/acsmedchemlett.3c00369', 'CHEMBL5308541', 'MAIP: An Open-Source Tool to Enrich High-Throughput Screening Output and Identify Novel, Druglike Molecules with Antimalarial Activity.', 'PUBLICATION', 'Bosc N, Felix E, Gardner JMF, Mills J, Timmerman M, Asveld D, Rensen K, Mukherjee P, Das R, Chenu E, Besson D, Burrows JN, Duffy J, Laleu B, Guantai EM, Leach AR.', 'Efforts to tackle malaria must continue for a disease that threatens half of the global population. Parasite resistance to current therapies requires ... (828 characters truncated) ... of molecules, and the eight hits we ultimately selected exhibit good potency and absorption, distribution, metabolism, and excretion (ADME) profiles.', None, 'MMV_CQL', 60, 34, None)]\n",
      "2024-06-07 23:18:35,336 INFO sqlalchemy.engine.Engine COMMIT\n"
     ]
    },
    {
     "data": {
      "text/plain": "89892"
     },
     "execution_count": 140,
     "metadata": {},
     "output_type": "execute_result"
    }
   ],
   "source": [
    "compound.to_sql('compound', con=engine, if_exists='replace', index=False)\n",
    "chembl_lookup.to_sql('chembl_lookup', con=engine, if_exists='replace', index=False)\n",
    "compound_records.to_sql('compound_records', con=engine, if_exists='replace', index=False)\n",
    "target_records.to_sql('target_records', con=engine, if_exists='replace', index=False)\n",
    "docs.to_sql('docs', con=engine, if_exists='replace', index=False)"
   ],
   "metadata": {
    "collapsed": false,
    "ExecuteTime": {
     "end_time": "2024-06-07T21:18:35.353430Z",
     "start_time": "2024-06-07T21:17:58.324137Z"
    }
   },
   "id": "256de3fb6f6ee954",
   "execution_count": 140
  },
  {
   "cell_type": "code",
   "outputs": [
    {
     "name": "stdout",
     "output_type": "stream",
     "text": [
      "2024-06-09 14:00:39,851 INFO sqlalchemy.engine.Engine BEGIN (implicit)\n",
      "2024-06-09 14:00:39,853 INFO sqlalchemy.engine.Engine PRAGMA main.table_info(\"\n",
      "SELECT derived_usage.name, derived_usage.species_name, nps.org_id\n",
      "FROM (\n",
      "    SELECT u.name, s.name as species_name\n",
      "    FROM usage u\n",
      "    JOIN species s\n",
      "    ON u.species_id = s.species_id\n",
      "    where u.name = 'Analgesic'\n",
      ") as derived_usage\n",
      "JOIN np_species nps \n",
      "ON derived_usage.species_name = nps.species_name\n",
      "\")\n",
      "2024-06-09 14:00:39,853 INFO sqlalchemy.engine.Engine [raw sql] ()\n",
      "2024-06-09 14:00:39,855 INFO sqlalchemy.engine.Engine PRAGMA temp.table_info(\"\n",
      "SELECT derived_usage.name, derived_usage.species_name, nps.org_id\n",
      "FROM (\n",
      "    SELECT u.name, s.name as species_name\n",
      "    FROM usage u\n",
      "    JOIN species s\n",
      "    ON u.species_id = s.species_id\n",
      "    where u.name = 'Analgesic'\n",
      ") as derived_usage\n",
      "JOIN np_species nps \n",
      "ON derived_usage.species_name = nps.species_name\n",
      "\")\n",
      "2024-06-09 14:00:39,855 INFO sqlalchemy.engine.Engine [raw sql] ()\n",
      "2024-06-09 14:00:39,856 INFO sqlalchemy.engine.Engine \n",
      "SELECT derived_usage.name, derived_usage.species_name, nps.org_id\n",
      "FROM (\n",
      "    SELECT u.name, s.name as species_name\n",
      "    FROM usage u\n",
      "    JOIN species s\n",
      "    ON u.species_id = s.species_id\n",
      "    where u.name = 'Analgesic'\n",
      ") as derived_usage\n",
      "JOIN np_species nps \n",
      "ON derived_usage.species_name = nps.species_name\n",
      "\n",
      "2024-06-09 14:00:39,856 INFO sqlalchemy.engine.Engine [raw sql] ()\n",
      "2024-06-09 14:00:39,901 INFO sqlalchemy.engine.Engine ROLLBACK\n"
     ]
    },
    {
     "data": {
      "text/plain": "          name                   species_name    org_id\n0    Analgesic                 Abies balsamea   NPO6316\n1    Analgesic                 Abies balsamea   NPO6316\n2    Analgesic               Abies lasiocarpa  NPO22435\n3    Analgesic  Acamptopappus sphaerocephalus   NPO7900\n4    Analgesic                    Acer rubrum  NPO28946\n..         ...                            ...       ...\n746  Analgesic         Zanthoxylum americanum  NPO29030\n747  Analgesic         Zanthoxylum americanum  NPO29030\n748  Analgesic                       Zea mays  NPO15810\n749  Analgesic              Zingiber zerumbet  NPO27791\n750  Analgesic             Zinnia grandiflora  NPO40405\n\n[751 rows x 3 columns]",
      "text/html": "<div>\n<style scoped>\n    .dataframe tbody tr th:only-of-type {\n        vertical-align: middle;\n    }\n\n    .dataframe tbody tr th {\n        vertical-align: top;\n    }\n\n    .dataframe thead th {\n        text-align: right;\n    }\n</style>\n<table border=\"1\" class=\"dataframe\">\n  <thead>\n    <tr style=\"text-align: right;\">\n      <th></th>\n      <th>name</th>\n      <th>species_name</th>\n      <th>org_id</th>\n    </tr>\n  </thead>\n  <tbody>\n    <tr>\n      <th>0</th>\n      <td>Analgesic</td>\n      <td>Abies balsamea</td>\n      <td>NPO6316</td>\n    </tr>\n    <tr>\n      <th>1</th>\n      <td>Analgesic</td>\n      <td>Abies balsamea</td>\n      <td>NPO6316</td>\n    </tr>\n    <tr>\n      <th>2</th>\n      <td>Analgesic</td>\n      <td>Abies lasiocarpa</td>\n      <td>NPO22435</td>\n    </tr>\n    <tr>\n      <th>3</th>\n      <td>Analgesic</td>\n      <td>Acamptopappus sphaerocephalus</td>\n      <td>NPO7900</td>\n    </tr>\n    <tr>\n      <th>4</th>\n      <td>Analgesic</td>\n      <td>Acer rubrum</td>\n      <td>NPO28946</td>\n    </tr>\n    <tr>\n      <th>...</th>\n      <td>...</td>\n      <td>...</td>\n      <td>...</td>\n    </tr>\n    <tr>\n      <th>746</th>\n      <td>Analgesic</td>\n      <td>Zanthoxylum americanum</td>\n      <td>NPO29030</td>\n    </tr>\n    <tr>\n      <th>747</th>\n      <td>Analgesic</td>\n      <td>Zanthoxylum americanum</td>\n      <td>NPO29030</td>\n    </tr>\n    <tr>\n      <th>748</th>\n      <td>Analgesic</td>\n      <td>Zea mays</td>\n      <td>NPO15810</td>\n    </tr>\n    <tr>\n      <th>749</th>\n      <td>Analgesic</td>\n      <td>Zingiber zerumbet</td>\n      <td>NPO27791</td>\n    </tr>\n    <tr>\n      <th>750</th>\n      <td>Analgesic</td>\n      <td>Zinnia grandiflora</td>\n      <td>NPO40405</td>\n    </tr>\n  </tbody>\n</table>\n<p>751 rows × 3 columns</p>\n</div>"
     },
     "execution_count": 160,
     "metadata": {},
     "output_type": "execute_result"
    }
   ],
   "source": [
    "# Query the database\n",
    "\n",
    "# SQL query to select name from usage table join with species table on species_id\n",
    "sql = \"\"\"\n",
    "SELECT derived_usage.name, derived_usage.species_name, nps.org_id\n",
    "FROM (\n",
    "    SELECT u.name, s.name as species_name\n",
    "    FROM usage u\n",
    "    JOIN species s\n",
    "    ON u.species_id = s.species_id\n",
    "    where u.name = 'Analgesic'\n",
    ") as derived_usage\n",
    "JOIN np_species nps \n",
    "ON derived_usage.species_name = nps.species_name\n",
    "\"\"\"\n",
    "\n",
    "pd.read_sql(sql, con=engine)"
   ],
   "metadata": {
    "collapsed": false,
    "ExecuteTime": {
     "end_time": "2024-06-09T12:00:39.936167Z",
     "start_time": "2024-06-09T12:00:39.854241Z"
    }
   },
   "id": "97610995044cf097",
   "execution_count": 160
  },
  {
   "cell_type": "code",
   "outputs": [
    {
     "name": "stdout",
     "output_type": "stream",
     "text": [
      "2024-06-09 13:59:26,388 INFO sqlalchemy.engine.Engine BEGIN (implicit)\n",
      "2024-06-09 13:59:26,396 INFO sqlalchemy.engine.Engine PRAGMA main.table_info(\"species\")\n",
      "2024-06-09 13:59:26,396 INFO sqlalchemy.engine.Engine [raw sql] ()\n",
      "2024-06-09 13:59:26,398 INFO sqlalchemy.engine.Engine PRAGMA temp.table_info(\"species\")\n",
      "2024-06-09 13:59:26,398 INFO sqlalchemy.engine.Engine [raw sql] ()\n",
      "2024-06-09 13:59:26,399 INFO sqlalchemy.engine.Engine \n",
      "CREATE TABLE species (\n",
      "\tspecies_id BIGINT, \n",
      "\tname TEXT, \n",
      "\tcommon_names TEXT, \n",
      "\tfamily TEXT, \n",
      "\tfamily_apg TEXT\n",
      ")\n",
      "\n",
      "\n",
      "2024-06-09 13:59:26,400 INFO sqlalchemy.engine.Engine [no key 0.00039s] ()\n",
      "2024-06-09 13:59:26,444 INFO sqlalchemy.engine.Engine INSERT INTO species (species_id, name, common_names, family, family_apg) VALUES (?, ?, ?, ?, ?)\n",
      "2024-06-09 13:59:26,445 INFO sqlalchemy.engine.Engine [generated in 0.02191s] [(1, 'Abies amabilis', 'Pacific Silver Fir', 'Pinaceae', 'Pinaceae'), (2, 'Abies balsamea', 'Balsam Fir', 'Pinaceae', 'Pinaceae'), (3, 'Abies concolor', 'White Fir', 'Pinaceae', 'Pinaceae'), (4, 'Abies fraseri', \"Fraser's Fir\", 'Pinaceae', 'Pinaceae'), (5, 'Abies grandis', 'Grand Fir', 'Pinaceae', 'Pinaceae'), (6, 'Abies lasiocarpa', 'Subalpine Fir', 'Pinaceae', 'Pinaceae'), (7, 'Abies procera', 'Noble Fir', 'Pinaceae', 'Pinaceae'), (8, 'Abies sp.', 'Balsam Fir', 'Pinaceae', 'Pinaceae')  ... displaying 10 of 4260 total bound parameter sets ...  (4259, 'Ziziphus parryi', \"Parry's Jujube\", 'Rhamnaceae', 'Rhamnaceae'), (4260, 'Zostera marina', 'Seawrack', 'Zosteraceae', 'Zosteraceae')]\n",
      "2024-06-09 13:59:26,450 INFO sqlalchemy.engine.Engine COMMIT\n"
     ]
    },
    {
     "data": {
      "text/plain": "4260"
     },
     "execution_count": 157,
     "metadata": {},
     "output_type": "execute_result"
    }
   ],
   "source": [
    "species.to_sql('species', con=engine, if_exists='replace', index=False)"
   ],
   "metadata": {
    "collapsed": false,
    "ExecuteTime": {
     "end_time": "2024-06-09T11:59:26.460088Z",
     "start_time": "2024-06-09T11:59:26.391159Z"
    }
   },
   "id": "46bf1ab30328cfa2",
   "execution_count": 157
  },
  {
   "cell_type": "code",
   "outputs": [
    {
     "name": "stdout",
     "output_type": "stream",
     "text": [
      "2024-06-09 22:14:35,887 INFO sqlalchemy.engine.Engine BEGIN (implicit)\n",
      "2024-06-09 22:14:35,898 INFO sqlalchemy.engine.Engine PRAGMA main.table_info(\"\n",
      "SELECT * FROM species;\n",
      "\")\n",
      "2024-06-09 22:14:35,902 INFO sqlalchemy.engine.Engine [raw sql] ()\n",
      "2024-06-09 22:14:35,904 INFO sqlalchemy.engine.Engine PRAGMA temp.table_info(\"\n",
      "SELECT * FROM species;\n",
      "\")\n",
      "2024-06-09 22:14:35,904 INFO sqlalchemy.engine.Engine [raw sql] ()\n",
      "2024-06-09 22:14:35,905 INFO sqlalchemy.engine.Engine \n",
      "SELECT * FROM species;\n",
      "\n",
      "2024-06-09 22:14:35,906 INFO sqlalchemy.engine.Engine [raw sql] ()\n",
      "2024-06-09 22:14:35,919 INFO sqlalchemy.engine.Engine ROLLBACK\n"
     ]
    },
    {
     "data": {
      "text/plain": "      species_id                  name        common_names       family  \\\n0              1        Abies amabilis  Pacific Silver Fir     Pinaceae   \n1              2        Abies balsamea          Balsam Fir     Pinaceae   \n2              3        Abies concolor           White Fir     Pinaceae   \n3              4         Abies fraseri        Fraser's Fir     Pinaceae   \n4              5         Abies grandis           Grand Fir     Pinaceae   \n...          ...                   ...                 ...          ...   \n4255        4256           Zizia aurea        Golden Zizia     Apiaceae   \n4256        4257  Ziziphus obtusifolia            Lotebush   Rhamnaceae   \n4257        4258  Ziziphus obtusifolia            Lotebush   Rhamnaceae   \n4258        4259       Ziziphus parryi      Parry's Jujube   Rhamnaceae   \n4259        4260        Zostera marina            Seawrack  Zosteraceae   \n\n       family_apg  \n0        Pinaceae  \n1        Pinaceae  \n2        Pinaceae  \n3        Pinaceae  \n4        Pinaceae  \n...           ...  \n4255     Apiaceae  \n4256   Rhamnaceae  \n4257   Rhamnaceae  \n4258   Rhamnaceae  \n4259  Zosteraceae  \n\n[4260 rows x 5 columns]",
      "text/html": "<div>\n<style scoped>\n    .dataframe tbody tr th:only-of-type {\n        vertical-align: middle;\n    }\n\n    .dataframe tbody tr th {\n        vertical-align: top;\n    }\n\n    .dataframe thead th {\n        text-align: right;\n    }\n</style>\n<table border=\"1\" class=\"dataframe\">\n  <thead>\n    <tr style=\"text-align: right;\">\n      <th></th>\n      <th>species_id</th>\n      <th>name</th>\n      <th>common_names</th>\n      <th>family</th>\n      <th>family_apg</th>\n    </tr>\n  </thead>\n  <tbody>\n    <tr>\n      <th>0</th>\n      <td>1</td>\n      <td>Abies amabilis</td>\n      <td>Pacific Silver Fir</td>\n      <td>Pinaceae</td>\n      <td>Pinaceae</td>\n    </tr>\n    <tr>\n      <th>1</th>\n      <td>2</td>\n      <td>Abies balsamea</td>\n      <td>Balsam Fir</td>\n      <td>Pinaceae</td>\n      <td>Pinaceae</td>\n    </tr>\n    <tr>\n      <th>2</th>\n      <td>3</td>\n      <td>Abies concolor</td>\n      <td>White Fir</td>\n      <td>Pinaceae</td>\n      <td>Pinaceae</td>\n    </tr>\n    <tr>\n      <th>3</th>\n      <td>4</td>\n      <td>Abies fraseri</td>\n      <td>Fraser's Fir</td>\n      <td>Pinaceae</td>\n      <td>Pinaceae</td>\n    </tr>\n    <tr>\n      <th>4</th>\n      <td>5</td>\n      <td>Abies grandis</td>\n      <td>Grand Fir</td>\n      <td>Pinaceae</td>\n      <td>Pinaceae</td>\n    </tr>\n    <tr>\n      <th>...</th>\n      <td>...</td>\n      <td>...</td>\n      <td>...</td>\n      <td>...</td>\n      <td>...</td>\n    </tr>\n    <tr>\n      <th>4255</th>\n      <td>4256</td>\n      <td>Zizia aurea</td>\n      <td>Golden Zizia</td>\n      <td>Apiaceae</td>\n      <td>Apiaceae</td>\n    </tr>\n    <tr>\n      <th>4256</th>\n      <td>4257</td>\n      <td>Ziziphus obtusifolia</td>\n      <td>Lotebush</td>\n      <td>Rhamnaceae</td>\n      <td>Rhamnaceae</td>\n    </tr>\n    <tr>\n      <th>4257</th>\n      <td>4258</td>\n      <td>Ziziphus obtusifolia</td>\n      <td>Lotebush</td>\n      <td>Rhamnaceae</td>\n      <td>Rhamnaceae</td>\n    </tr>\n    <tr>\n      <th>4258</th>\n      <td>4259</td>\n      <td>Ziziphus parryi</td>\n      <td>Parry's Jujube</td>\n      <td>Rhamnaceae</td>\n      <td>Rhamnaceae</td>\n    </tr>\n    <tr>\n      <th>4259</th>\n      <td>4260</td>\n      <td>Zostera marina</td>\n      <td>Seawrack</td>\n      <td>Zosteraceae</td>\n      <td>Zosteraceae</td>\n    </tr>\n  </tbody>\n</table>\n<p>4260 rows × 5 columns</p>\n</div>"
     },
     "execution_count": 4,
     "metadata": {},
     "output_type": "execute_result"
    }
   ],
   "source": [
    "# select all exitent tables in the database\n",
    "sql = \"\"\"\n",
    "SELECT * FROM species;\n",
    "\"\"\"\n",
    "pd.read_sql(sql, con=engine)"
   ],
   "metadata": {
    "collapsed": false,
    "ExecuteTime": {
     "end_time": "2024-06-09T20:14:36.050032Z",
     "start_time": "2024-06-09T20:14:35.901363Z"
    }
   },
   "id": "922c040fbcef85cf",
   "execution_count": 4
  },
  {
   "cell_type": "code",
   "outputs": [],
   "source": [
    "import os\n",
    "import pandas as pd\n",
    "from pandasai import Agent\n",
    "\n",
    "\n",
    "\n",
    "# Sample DataFrame\n",
    "\n",
    "species = pd.read_sql(\n",
    "    \"\"\"\n",
    "    SELECT * FROM species;\n",
    "    \"\"\",\n",
    "    con=engine\n",
    ")\n",
    "usage = pd.read_sql(\n",
    "    \"\"\"\n",
    "    SELECT * FROM usage;\n",
    "    \"\"\",\n",
    "    con=engine\n",
    ")\n",
    "# By default, unless you choose a different LLM, it will use BambooLLM.\n",
    "# You can get your free API key signing up at https://pandabi.ai (you can also configure it in your .env file)\n",
    "os.environ[\"PANDASAI_API_KEY\"] = \"YOUR_API_KEY\"\n",
    "\n",
    "agent = Agent(sales_by_country)\n",
    "agent.chat('Which are the top 5 countries by sales?')"
   ],
   "metadata": {
    "collapsed": false
   },
   "id": "bb751f903d4c3097"
  }
 ],
 "metadata": {
  "kernelspec": {
   "display_name": "Python 3",
   "language": "python",
   "name": "python3"
  },
  "language_info": {
   "codemirror_mode": {
    "name": "ipython",
    "version": 2
   },
   "file_extension": ".py",
   "mimetype": "text/x-python",
   "name": "python",
   "nbconvert_exporter": "python",
   "pygments_lexer": "ipython2",
   "version": "2.7.6"
  }
 },
 "nbformat": 4,
 "nbformat_minor": 5
}
