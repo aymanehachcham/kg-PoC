{
 "cells": [
  {
   "cell_type": "markdown",
   "source": [
    "# Process of converting a relational data model into RDF suitable for KG ingestion"
   ],
   "metadata": {
    "collapsed": false
   },
   "id": "912f202f90b6b82b"
  },
  {
   "cell_type": "code",
   "outputs": [],
   "source": [
    "import pandas as pd\n",
    "import sqlite3\n",
    "from rdflib import Graph, Literal, Namespace, URIRef\n",
    "\n",
    "def convert_table_to_rdf(table_name, conn, graph, namespace):\n",
    "    df = pd.read_sql_query(f\"SELECT * FROM {table_name} LIMIT 10\", conn)\n",
    "    print(df.info())\n",
    "    for index, row in df.iterrows():\n",
    "        # Assuming the first column is the primary key\n",
    "        subject = namespace[str(row.iloc[0])]\n",
    "        for col in df.columns[1:]:  # Skip the primary key column for predicates\n",
    "            predicate = namespace[col]\n",
    "            object = Literal(row[col])\n",
    "            graph.add((subject, predicate, object))"
   ],
   "metadata": {
    "collapsed": false,
    "ExecuteTime": {
     "end_time": "2024-06-09T11:18:55.313295Z",
     "start_time": "2024-06-09T11:18:55.307132Z"
    }
   },
   "id": "170414b371ec2ef2",
   "execution_count": 3
  },
  {
   "cell_type": "code",
   "outputs": [
    {
     "name": "stdout",
     "output_type": "stream",
     "text": [
      "<class 'pandas.core.frame.DataFrame'>\n",
      "RangeIndex: 10 entries, 0 to 9\n",
      "Data columns (total 6 columns):\n",
      " #   Column              Non-Null Count  Dtype \n",
      "---  ------              --------------  ----- \n",
      " 0   use_id              10 non-null     int64 \n",
      " 1   species_id          10 non-null     int64 \n",
      " 2   tribe_id            10 non-null     int64 \n",
      " 3   source_id           10 non-null     int64 \n",
      " 4   use_subcategory_id  10 non-null     int64 \n",
      " 5   name                10 non-null     object\n",
      "dtypes: int64(5), object(1)\n",
      "memory usage: 612.0+ bytes\n",
      "None\n",
      "<class 'pandas.core.frame.DataFrame'>\n",
      "RangeIndex: 10 entries, 0 to 9\n",
      "Data columns (total 5 columns):\n",
      " #   Column        Non-Null Count  Dtype \n",
      "---  ------        --------------  ----- \n",
      " 0   species_id    10 non-null     int64 \n",
      " 1   name          10 non-null     object\n",
      " 2   common_names  10 non-null     object\n",
      " 3   family        10 non-null     object\n",
      " 4   family_apg    10 non-null     object\n",
      "dtypes: int64(1), object(4)\n",
      "memory usage: 532.0+ bytes\n",
      "None\n"
     ]
    },
    {
     "data": {
      "text/plain": "<Graph identifier=N00f3165ad4184dcfab85cf0560ba87fb (<class 'rdflib.graph.Graph'>)>"
     },
     "execution_count": 6,
     "metadata": {},
     "output_type": "execute_result"
    }
   ],
   "source": [
    "conn = sqlite3.connect('datasets/data_model.db')\n",
    "g = Graph()\n",
    "n = Namespace(\"http://kg.org/data/\")\n",
    "\n",
    "tables_query = \"SELECT name FROM sqlite_master WHERE type='table';\"\n",
    "tables = pd.read_sql_query(tables_query, conn)\n",
    "\n",
    "for table in ['usage', 'species']:\n",
    "    convert_table_to_rdf(table, conn, g, n)\n",
    "\n",
    "# Serialize the graph to an RDF file\n",
    "g.serialize(destination='./datasets/usage_species.rdf', format='xml')"
   ],
   "metadata": {
    "collapsed": false,
    "ExecuteTime": {
     "end_time": "2024-06-09T11:28:38.667371Z",
     "start_time": "2024-06-09T11:28:38.647134Z"
    }
   },
   "id": "2302d6ae0c18e3a5",
   "execution_count": 6
  },
  {
   "cell_type": "code",
   "outputs": [],
   "source": [],
   "metadata": {
    "collapsed": false
   },
   "id": "e2bc86c38edc5a72"
  }
 ],
 "metadata": {
  "kernelspec": {
   "display_name": "Python 3",
   "language": "python",
   "name": "python3"
  },
  "language_info": {
   "codemirror_mode": {
    "name": "ipython",
    "version": 2
   },
   "file_extension": ".py",
   "mimetype": "text/x-python",
   "name": "python",
   "nbconvert_exporter": "python",
   "pygments_lexer": "ipython2",
   "version": "2.7.6"
  }
 },
 "nbformat": 4,
 "nbformat_minor": 5
}
