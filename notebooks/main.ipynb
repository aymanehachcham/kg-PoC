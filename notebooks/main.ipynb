{
 "cells": [
  {
   "cell_type": "markdown",
   "source": [
    "## Listing all tables in the database"
   ],
   "metadata": {
    "collapsed": false
   },
   "id": "7ad19cb4bb67f65a"
  },
  {
   "cell_type": "code",
   "outputs": [
    {
     "data": {
      "text/plain": "                name\n0              usage\n1            species\n2            sources\n3             target\n4    natural_product\n5           compound\n6   chembl_id_lookup\n7   compound_records\n8  target_dictionary\n9               docs",
      "text/html": "<div>\n<style scoped>\n    .dataframe tbody tr th:only-of-type {\n        vertical-align: middle;\n    }\n\n    .dataframe tbody tr th {\n        vertical-align: top;\n    }\n\n    .dataframe thead th {\n        text-align: right;\n    }\n</style>\n<table border=\"1\" class=\"dataframe\">\n  <thead>\n    <tr style=\"text-align: right;\">\n      <th></th>\n      <th>name</th>\n    </tr>\n  </thead>\n  <tbody>\n    <tr>\n      <th>0</th>\n      <td>usage</td>\n    </tr>\n    <tr>\n      <th>1</th>\n      <td>species</td>\n    </tr>\n    <tr>\n      <th>2</th>\n      <td>sources</td>\n    </tr>\n    <tr>\n      <th>3</th>\n      <td>target</td>\n    </tr>\n    <tr>\n      <th>4</th>\n      <td>natural_product</td>\n    </tr>\n    <tr>\n      <th>5</th>\n      <td>compound</td>\n    </tr>\n    <tr>\n      <th>6</th>\n      <td>chembl_id_lookup</td>\n    </tr>\n    <tr>\n      <th>7</th>\n      <td>compound_records</td>\n    </tr>\n    <tr>\n      <th>8</th>\n      <td>target_dictionary</td>\n    </tr>\n    <tr>\n      <th>9</th>\n      <td>docs</td>\n    </tr>\n  </tbody>\n</table>\n</div>"
     },
     "execution_count": 5,
     "metadata": {},
     "output_type": "execute_result"
    }
   ],
   "source": [
    "import sqlite3\n",
    "import pandas as pd\n",
    "\n",
    "engine = sqlite3.connect('kg_poc/datasets/eb_data.db')\n",
    "# select all tables from the database\n",
    "sql = \"\"\"\n",
    "SELECT name FROM sqlite_master WHERE type='table'\n",
    "\"\"\"\n",
    "pd.read_sql_query(sql, engine)"
   ],
   "metadata": {
    "collapsed": false,
    "ExecuteTime": {
     "end_time": "2024-06-10T13:43:48.289697Z",
     "start_time": "2024-06-10T13:43:48.283136Z"
    }
   },
   "id": "e235c46f46d4928e",
   "execution_count": 5
  },
  {
   "cell_type": "markdown",
   "source": [
    "## Selecting the usage and species name"
   ],
   "metadata": {
    "collapsed": false
   },
   "id": "198aeac483c25c22"
  },
  {
   "cell_type": "code",
   "outputs": [
    {
     "data": {
      "text/plain": "     usage_name                   species_name\n0     Analgesic                 Abies balsamea\n1     Analgesic                 Abies balsamea\n2     Analgesic               Abies lasiocarpa\n3     Analgesic  Acamptopappus sphaerocephalus\n4     Analgesic                    Acer rubrum\n...         ...                            ...\n1287  Analgesic            Zigadenus venenosus\n1288  Analgesic              Zingiber zerumbet\n1289  Analgesic             Zinnia grandiflora\n1290  Analgesic                    Zizia aurea\n1291  Analgesic           Ziziphus obtusifolia\n\n[1292 rows x 2 columns]",
      "text/html": "<div>\n<style scoped>\n    .dataframe tbody tr th:only-of-type {\n        vertical-align: middle;\n    }\n\n    .dataframe tbody tr th {\n        vertical-align: top;\n    }\n\n    .dataframe thead th {\n        text-align: right;\n    }\n</style>\n<table border=\"1\" class=\"dataframe\">\n  <thead>\n    <tr style=\"text-align: right;\">\n      <th></th>\n      <th>usage_name</th>\n      <th>species_name</th>\n    </tr>\n  </thead>\n  <tbody>\n    <tr>\n      <th>0</th>\n      <td>Analgesic</td>\n      <td>Abies balsamea</td>\n    </tr>\n    <tr>\n      <th>1</th>\n      <td>Analgesic</td>\n      <td>Abies balsamea</td>\n    </tr>\n    <tr>\n      <th>2</th>\n      <td>Analgesic</td>\n      <td>Abies lasiocarpa</td>\n    </tr>\n    <tr>\n      <th>3</th>\n      <td>Analgesic</td>\n      <td>Acamptopappus sphaerocephalus</td>\n    </tr>\n    <tr>\n      <th>4</th>\n      <td>Analgesic</td>\n      <td>Acer rubrum</td>\n    </tr>\n    <tr>\n      <th>...</th>\n      <td>...</td>\n      <td>...</td>\n    </tr>\n    <tr>\n      <th>1287</th>\n      <td>Analgesic</td>\n      <td>Zigadenus venenosus</td>\n    </tr>\n    <tr>\n      <th>1288</th>\n      <td>Analgesic</td>\n      <td>Zingiber zerumbet</td>\n    </tr>\n    <tr>\n      <th>1289</th>\n      <td>Analgesic</td>\n      <td>Zinnia grandiflora</td>\n    </tr>\n    <tr>\n      <th>1290</th>\n      <td>Analgesic</td>\n      <td>Zizia aurea</td>\n    </tr>\n    <tr>\n      <th>1291</th>\n      <td>Analgesic</td>\n      <td>Ziziphus obtusifolia</td>\n    </tr>\n  </tbody>\n</table>\n<p>1292 rows × 2 columns</p>\n</div>"
     },
     "execution_count": 6,
     "metadata": {},
     "output_type": "execute_result"
    }
   ],
   "source": [
    "import sqlite3\n",
    "import pandas as pd\n",
    "\n",
    "engine = sqlite3.connect('kg_poc/datasets/eb_data.db')\n",
    "sql = \"\"\"\n",
    "SELECT u.usage_name, s.species_name as species_name\n",
    "FROM usage u\n",
    "JOIN species s\n",
    "ON u.species_id = s.species_id\n",
    "where u.usage_name = 'Analgesic'\n",
    "\"\"\"\n",
    "pd.read_sql_query(sql, engine)"
   ],
   "metadata": {
    "collapsed": true,
    "ExecuteTime": {
     "end_time": "2024-06-10T13:43:50.483158Z",
     "start_time": "2024-06-10T13:43:50.463890Z"
    }
   },
   "id": "initial_id",
   "execution_count": 6
  },
  {
   "cell_type": "markdown",
   "source": [
    "## Linking the natural product to the usage and species name"
   ],
   "metadata": {
    "collapsed": false
   },
   "id": "44d14bb12da81fec"
  },
  {
   "cell_type": "code",
   "outputs": [
    {
     "data": {
      "text/plain": "           np_id        species_name usage_name\n0      NPC100445      Abies balsamea  Analgesic\n1      NPC150105      Abies balsamea  Analgesic\n2      NPC185498      Abies balsamea  Analgesic\n3      NPC217940      Abies balsamea  Analgesic\n4      NPC217940      Abies balsamea  Analgesic\n...          ...                 ...        ...\n44008  NPC329908  Zinnia grandiflora  Analgesic\n44009  NPC330022  Zinnia grandiflora  Analgesic\n44010  NPC481151  Zinnia grandiflora  Analgesic\n44011  NPC486694  Zinnia grandiflora  Analgesic\n44012  NPC488190  Zinnia grandiflora  Analgesic\n\n[44013 rows x 3 columns]",
      "text/html": "<div>\n<style scoped>\n    .dataframe tbody tr th:only-of-type {\n        vertical-align: middle;\n    }\n\n    .dataframe tbody tr th {\n        vertical-align: top;\n    }\n\n    .dataframe thead th {\n        text-align: right;\n    }\n</style>\n<table border=\"1\" class=\"dataframe\">\n  <thead>\n    <tr style=\"text-align: right;\">\n      <th></th>\n      <th>np_id</th>\n      <th>species_name</th>\n      <th>usage_name</th>\n    </tr>\n  </thead>\n  <tbody>\n    <tr>\n      <th>0</th>\n      <td>NPC100445</td>\n      <td>Abies balsamea</td>\n      <td>Analgesic</td>\n    </tr>\n    <tr>\n      <th>1</th>\n      <td>NPC150105</td>\n      <td>Abies balsamea</td>\n      <td>Analgesic</td>\n    </tr>\n    <tr>\n      <th>2</th>\n      <td>NPC185498</td>\n      <td>Abies balsamea</td>\n      <td>Analgesic</td>\n    </tr>\n    <tr>\n      <th>3</th>\n      <td>NPC217940</td>\n      <td>Abies balsamea</td>\n      <td>Analgesic</td>\n    </tr>\n    <tr>\n      <th>4</th>\n      <td>NPC217940</td>\n      <td>Abies balsamea</td>\n      <td>Analgesic</td>\n    </tr>\n    <tr>\n      <th>...</th>\n      <td>...</td>\n      <td>...</td>\n      <td>...</td>\n    </tr>\n    <tr>\n      <th>44008</th>\n      <td>NPC329908</td>\n      <td>Zinnia grandiflora</td>\n      <td>Analgesic</td>\n    </tr>\n    <tr>\n      <th>44009</th>\n      <td>NPC330022</td>\n      <td>Zinnia grandiflora</td>\n      <td>Analgesic</td>\n    </tr>\n    <tr>\n      <th>44010</th>\n      <td>NPC481151</td>\n      <td>Zinnia grandiflora</td>\n      <td>Analgesic</td>\n    </tr>\n    <tr>\n      <th>44011</th>\n      <td>NPC486694</td>\n      <td>Zinnia grandiflora</td>\n      <td>Analgesic</td>\n    </tr>\n    <tr>\n      <th>44012</th>\n      <td>NPC488190</td>\n      <td>Zinnia grandiflora</td>\n      <td>Analgesic</td>\n    </tr>\n  </tbody>\n</table>\n<p>44013 rows × 3 columns</p>\n</div>"
     },
     "execution_count": 7,
     "metadata": {},
     "output_type": "execute_result"
    }
   ],
   "source": [
    "sql = \"\"\"\n",
    "SELECT np.np_id, d.species_name, d.usage_name\n",
    "FROM (\n",
    "    SELECT u.usage_name, s.species_name as species_name\n",
    "    FROM usage u\n",
    "    JOIN species s\n",
    "    ON u.species_id = s.species_id\n",
    "    where u.usage_name = 'Analgesic'\n",
    ") AS d\n",
    "JOIN natural_product np\n",
    "ON d.species_name = np.species_name\n",
    "\"\"\"\n",
    "pd.read_sql_query(sql, engine)"
   ],
   "metadata": {
    "collapsed": false,
    "ExecuteTime": {
     "end_time": "2024-06-10T13:43:53.855360Z",
     "start_time": "2024-06-10T13:43:52.876495Z"
    }
   },
   "id": "f0883aa6f2477855",
   "execution_count": 7
  },
  {
   "cell_type": "markdown",
   "source": [
    "## Linking the compound to the natural product through the chembl_id"
   ],
   "metadata": {
    "collapsed": false
   },
   "id": "224dffe8925354b4"
  },
  {
   "cell_type": "code",
   "outputs": [
    {
     "data": {
      "text/plain": "           chembl_id      np_id  \\\n0      CHEMBL3184678  NPC100445   \n1               n.a.  NPC150105   \n2        CHEMBL44657  NPC185498   \n3      CHEMBL1967398  NPC217940   \n4      CHEMBL1967398  NPC217940   \n...              ...        ...   \n44008           n.a.  NPC329908   \n44009           n.a.  NPC330022   \n44010           n.a.  NPC481151   \n44011           n.a.  NPC486694   \n44012           n.a.  NPC488190   \n\n                                           compound_name        species_name  \\\n0               1-Methyl-4-Prop-1-En-2-Ylcyclohexan-1-Ol      Abies balsamea   \n1                            YUKVPJYMFYPFEB-YKYSJNPSSA-N      Abies balsamea   \n2                                              Etoposide      Abies balsamea   \n3      Methyl (2E,6E)-9-(3,3-Dimethyloxiran-2-Yl)-3,7...      Abies balsamea   \n4      Methyl (2E,6E)-9-(3,3-Dimethyloxiran-2-Yl)-3,7...      Abies balsamea   \n...                                                  ...                 ...   \n44008                        UGJQEYPUVSKREF-IHWZMDENSA-N  Zinnia grandiflora   \n44009                        YLSANYPALPIPQU-DYZKBYPLSA-N  Zinnia grandiflora   \n44010                        DCOPUUMXTXDBNB-UHFFFAOYSA-N  Zinnia grandiflora   \n44011                        UUASDOALLGVGAV-UQGZKMHZSA-N  Zinnia grandiflora   \n44012                        IUPCDZYDECOWEX-RTNHSTRGSA-N  Zinnia grandiflora   \n\n      usage_name  \n0      Analgesic  \n1      Analgesic  \n2      Analgesic  \n3      Analgesic  \n4      Analgesic  \n...          ...  \n44008  Analgesic  \n44009  Analgesic  \n44010  Analgesic  \n44011  Analgesic  \n44012  Analgesic  \n\n[44013 rows x 5 columns]",
      "text/html": "<div>\n<style scoped>\n    .dataframe tbody tr th:only-of-type {\n        vertical-align: middle;\n    }\n\n    .dataframe tbody tr th {\n        vertical-align: top;\n    }\n\n    .dataframe thead th {\n        text-align: right;\n    }\n</style>\n<table border=\"1\" class=\"dataframe\">\n  <thead>\n    <tr style=\"text-align: right;\">\n      <th></th>\n      <th>chembl_id</th>\n      <th>np_id</th>\n      <th>compound_name</th>\n      <th>species_name</th>\n      <th>usage_name</th>\n    </tr>\n  </thead>\n  <tbody>\n    <tr>\n      <th>0</th>\n      <td>CHEMBL3184678</td>\n      <td>NPC100445</td>\n      <td>1-Methyl-4-Prop-1-En-2-Ylcyclohexan-1-Ol</td>\n      <td>Abies balsamea</td>\n      <td>Analgesic</td>\n    </tr>\n    <tr>\n      <th>1</th>\n      <td>n.a.</td>\n      <td>NPC150105</td>\n      <td>YUKVPJYMFYPFEB-YKYSJNPSSA-N</td>\n      <td>Abies balsamea</td>\n      <td>Analgesic</td>\n    </tr>\n    <tr>\n      <th>2</th>\n      <td>CHEMBL44657</td>\n      <td>NPC185498</td>\n      <td>Etoposide</td>\n      <td>Abies balsamea</td>\n      <td>Analgesic</td>\n    </tr>\n    <tr>\n      <th>3</th>\n      <td>CHEMBL1967398</td>\n      <td>NPC217940</td>\n      <td>Methyl (2E,6E)-9-(3,3-Dimethyloxiran-2-Yl)-3,7...</td>\n      <td>Abies balsamea</td>\n      <td>Analgesic</td>\n    </tr>\n    <tr>\n      <th>4</th>\n      <td>CHEMBL1967398</td>\n      <td>NPC217940</td>\n      <td>Methyl (2E,6E)-9-(3,3-Dimethyloxiran-2-Yl)-3,7...</td>\n      <td>Abies balsamea</td>\n      <td>Analgesic</td>\n    </tr>\n    <tr>\n      <th>...</th>\n      <td>...</td>\n      <td>...</td>\n      <td>...</td>\n      <td>...</td>\n      <td>...</td>\n    </tr>\n    <tr>\n      <th>44008</th>\n      <td>n.a.</td>\n      <td>NPC329908</td>\n      <td>UGJQEYPUVSKREF-IHWZMDENSA-N</td>\n      <td>Zinnia grandiflora</td>\n      <td>Analgesic</td>\n    </tr>\n    <tr>\n      <th>44009</th>\n      <td>n.a.</td>\n      <td>NPC330022</td>\n      <td>YLSANYPALPIPQU-DYZKBYPLSA-N</td>\n      <td>Zinnia grandiflora</td>\n      <td>Analgesic</td>\n    </tr>\n    <tr>\n      <th>44010</th>\n      <td>n.a.</td>\n      <td>NPC481151</td>\n      <td>DCOPUUMXTXDBNB-UHFFFAOYSA-N</td>\n      <td>Zinnia grandiflora</td>\n      <td>Analgesic</td>\n    </tr>\n    <tr>\n      <th>44011</th>\n      <td>n.a.</td>\n      <td>NPC486694</td>\n      <td>UUASDOALLGVGAV-UQGZKMHZSA-N</td>\n      <td>Zinnia grandiflora</td>\n      <td>Analgesic</td>\n    </tr>\n    <tr>\n      <th>44012</th>\n      <td>n.a.</td>\n      <td>NPC488190</td>\n      <td>IUPCDZYDECOWEX-RTNHSTRGSA-N</td>\n      <td>Zinnia grandiflora</td>\n      <td>Analgesic</td>\n    </tr>\n  </tbody>\n</table>\n<p>44013 rows × 5 columns</p>\n</div>"
     },
     "execution_count": 8,
     "metadata": {},
     "output_type": "execute_result"
    }
   ],
   "source": [
    "sql = \"\"\"\n",
    "SELECT c.chembl_id, c.np_id, c.pref_name as compound_name, d.species_name, d.usage_name\n",
    "FROM (\n",
    "    SELECT np.np_id, d.species_name, d.usage_name\n",
    "    FROM (\n",
    "        SELECT u.usage_name, s.species_name as species_name\n",
    "        FROM usage u\n",
    "        JOIN species s\n",
    "        ON u.species_id = s.species_id\n",
    "        where u.usage_name = 'Analgesic'\n",
    "    ) AS d\n",
    "    JOIN natural_product np\n",
    "    ON d.species_name = np.species_name\n",
    ") AS d\n",
    "JOIN compound c\n",
    "ON d.np_id = c.np_id\n",
    "\"\"\"\n",
    "pd.read_sql_query(sql, engine)"
   ],
   "metadata": {
    "collapsed": false,
    "ExecuteTime": {
     "end_time": "2024-06-10T13:43:57.527216Z",
     "start_time": "2024-06-10T13:43:56.578262Z"
    }
   },
   "id": "5ec1bc12a232cdce",
   "execution_count": 8
  },
  {
   "cell_type": "markdown",
   "source": [
    "## Looking into CHembl to extract the compound records"
   ],
   "metadata": {
    "collapsed": false
   },
   "id": "b3b9c58b396cd044"
  },
  {
   "cell_type": "code",
   "outputs": [
    {
     "data": {
      "text/plain": "           chembl_id entity_type  entity_id        species_name usage_name\n0      CHEMBL3184678    COMPOUND    1673969      Abies balsamea  Analgesic\n1        CHEMBL44657    COMPOUND      68607      Abies balsamea  Analgesic\n2      CHEMBL1967398    COMPOUND    1288689      Abies balsamea  Analgesic\n3      CHEMBL1967398    COMPOUND    1288689      Abies balsamea  Analgesic\n4      CHEMBL2269327    COMPOUND    1486619      Abies balsamea  Analgesic\n...              ...         ...        ...                 ...        ...\n17325   CHEMBL245412    COMPOUND     407810   Zingiber zerumbet  Analgesic\n17326  CHEMBL1240930    COMPOUND     700143   Zingiber zerumbet  Analgesic\n17327   CHEMBL512339    COMPOUND     444681   Zingiber zerumbet  Analgesic\n17328   CHEMBL512339    COMPOUND     444681   Zingiber zerumbet  Analgesic\n17329    CHEMBL53463    COMPOUND      78759  Zinnia grandiflora  Analgesic\n\n[17330 rows x 5 columns]",
      "text/html": "<div>\n<style scoped>\n    .dataframe tbody tr th:only-of-type {\n        vertical-align: middle;\n    }\n\n    .dataframe tbody tr th {\n        vertical-align: top;\n    }\n\n    .dataframe thead th {\n        text-align: right;\n    }\n</style>\n<table border=\"1\" class=\"dataframe\">\n  <thead>\n    <tr style=\"text-align: right;\">\n      <th></th>\n      <th>chembl_id</th>\n      <th>entity_type</th>\n      <th>entity_id</th>\n      <th>species_name</th>\n      <th>usage_name</th>\n    </tr>\n  </thead>\n  <tbody>\n    <tr>\n      <th>0</th>\n      <td>CHEMBL3184678</td>\n      <td>COMPOUND</td>\n      <td>1673969</td>\n      <td>Abies balsamea</td>\n      <td>Analgesic</td>\n    </tr>\n    <tr>\n      <th>1</th>\n      <td>CHEMBL44657</td>\n      <td>COMPOUND</td>\n      <td>68607</td>\n      <td>Abies balsamea</td>\n      <td>Analgesic</td>\n    </tr>\n    <tr>\n      <th>2</th>\n      <td>CHEMBL1967398</td>\n      <td>COMPOUND</td>\n      <td>1288689</td>\n      <td>Abies balsamea</td>\n      <td>Analgesic</td>\n    </tr>\n    <tr>\n      <th>3</th>\n      <td>CHEMBL1967398</td>\n      <td>COMPOUND</td>\n      <td>1288689</td>\n      <td>Abies balsamea</td>\n      <td>Analgesic</td>\n    </tr>\n    <tr>\n      <th>4</th>\n      <td>CHEMBL2269327</td>\n      <td>COMPOUND</td>\n      <td>1486619</td>\n      <td>Abies balsamea</td>\n      <td>Analgesic</td>\n    </tr>\n    <tr>\n      <th>...</th>\n      <td>...</td>\n      <td>...</td>\n      <td>...</td>\n      <td>...</td>\n      <td>...</td>\n    </tr>\n    <tr>\n      <th>17325</th>\n      <td>CHEMBL245412</td>\n      <td>COMPOUND</td>\n      <td>407810</td>\n      <td>Zingiber zerumbet</td>\n      <td>Analgesic</td>\n    </tr>\n    <tr>\n      <th>17326</th>\n      <td>CHEMBL1240930</td>\n      <td>COMPOUND</td>\n      <td>700143</td>\n      <td>Zingiber zerumbet</td>\n      <td>Analgesic</td>\n    </tr>\n    <tr>\n      <th>17327</th>\n      <td>CHEMBL512339</td>\n      <td>COMPOUND</td>\n      <td>444681</td>\n      <td>Zingiber zerumbet</td>\n      <td>Analgesic</td>\n    </tr>\n    <tr>\n      <th>17328</th>\n      <td>CHEMBL512339</td>\n      <td>COMPOUND</td>\n      <td>444681</td>\n      <td>Zingiber zerumbet</td>\n      <td>Analgesic</td>\n    </tr>\n    <tr>\n      <th>17329</th>\n      <td>CHEMBL53463</td>\n      <td>COMPOUND</td>\n      <td>78759</td>\n      <td>Zinnia grandiflora</td>\n      <td>Analgesic</td>\n    </tr>\n  </tbody>\n</table>\n<p>17330 rows × 5 columns</p>\n</div>"
     },
     "execution_count": 9,
     "metadata": {},
     "output_type": "execute_result"
    }
   ],
   "source": [
    "sql = \"\"\"\n",
    "SELECT ch.chembl_id, ch.entity_type, ch.entity_id, d.species_name, d.usage_name\n",
    "FROM (\n",
    "    SELECT c.chembl_id, c.np_id, c.pref_name as compound_name, d.species_name, d.usage_name\n",
    "    FROM (\n",
    "        SELECT np.np_id, d.species_name, d.usage_name\n",
    "        FROM (\n",
    "            SELECT u.usage_name, s.species_name as species_name\n",
    "            FROM usage u\n",
    "            JOIN species s\n",
    "            ON u.species_id = s.species_id\n",
    "            where u.usage_name = 'Analgesic'\n",
    "        ) AS d\n",
    "        JOIN natural_product np\n",
    "        ON d.species_name = np.species_name\n",
    "    ) AS d\n",
    "    JOIN compound c\n",
    "    ON d.np_id = c.np_id\n",
    ") AS d\n",
    "JOIN CHEMBL_ID_LOOKUP ch\n",
    "ON d.chembl_id = ch.chembl_id\n",
    "\"\"\"\n",
    "pd.read_sql_query(sql, engine)"
   ],
   "metadata": {
    "collapsed": false,
    "ExecuteTime": {
     "end_time": "2024-06-10T13:44:02.092652Z",
     "start_time": "2024-06-10T13:43:59.715414Z"
    }
   },
   "id": "ced92e10240dd935",
   "execution_count": 9
  },
  {
   "cell_type": "code",
   "outputs": [
    {
     "data": {
      "text/plain": "        molregno  doc_id                                      compound_name  \\\n0        1673969   51887                                       SID144212695   \n1          68607      -1                                          ETOPOSIDE   \n2          68607      -1                                          ETOPOSIDE   \n3          68607      -1                                          ETOPOSIDE   \n4          68607      22  (4aR,6R,7R,9aS)-9-(7,8-Dihydroxy-2-methyl-hexa...   \n...          ...     ...                                                ...   \n619071     78759  126120                                        Doxorubicin   \n619072     78759  126129                                        Doxorubicin   \n619073     78759  126141                                        Doxorubicin   \n619074     78759  126148                                        Doxorubicin   \n619075     78759  126186                                        doxorubicin   \n\n              species_name usage_name  \n0           Abies balsamea  Analgesic  \n1           Abies balsamea  Analgesic  \n2           Abies balsamea  Analgesic  \n3           Abies balsamea  Analgesic  \n4           Abies balsamea  Analgesic  \n...                    ...        ...  \n619071  Zinnia grandiflora  Analgesic  \n619072  Zinnia grandiflora  Analgesic  \n619073  Zinnia grandiflora  Analgesic  \n619074  Zinnia grandiflora  Analgesic  \n619075  Zinnia grandiflora  Analgesic  \n\n[619076 rows x 5 columns]",
      "text/html": "<div>\n<style scoped>\n    .dataframe tbody tr th:only-of-type {\n        vertical-align: middle;\n    }\n\n    .dataframe tbody tr th {\n        vertical-align: top;\n    }\n\n    .dataframe thead th {\n        text-align: right;\n    }\n</style>\n<table border=\"1\" class=\"dataframe\">\n  <thead>\n    <tr style=\"text-align: right;\">\n      <th></th>\n      <th>molregno</th>\n      <th>doc_id</th>\n      <th>compound_name</th>\n      <th>species_name</th>\n      <th>usage_name</th>\n    </tr>\n  </thead>\n  <tbody>\n    <tr>\n      <th>0</th>\n      <td>1673969</td>\n      <td>51887</td>\n      <td>SID144212695</td>\n      <td>Abies balsamea</td>\n      <td>Analgesic</td>\n    </tr>\n    <tr>\n      <th>1</th>\n      <td>68607</td>\n      <td>-1</td>\n      <td>ETOPOSIDE</td>\n      <td>Abies balsamea</td>\n      <td>Analgesic</td>\n    </tr>\n    <tr>\n      <th>2</th>\n      <td>68607</td>\n      <td>-1</td>\n      <td>ETOPOSIDE</td>\n      <td>Abies balsamea</td>\n      <td>Analgesic</td>\n    </tr>\n    <tr>\n      <th>3</th>\n      <td>68607</td>\n      <td>-1</td>\n      <td>ETOPOSIDE</td>\n      <td>Abies balsamea</td>\n      <td>Analgesic</td>\n    </tr>\n    <tr>\n      <th>4</th>\n      <td>68607</td>\n      <td>22</td>\n      <td>(4aR,6R,7R,9aS)-9-(7,8-Dihydroxy-2-methyl-hexa...</td>\n      <td>Abies balsamea</td>\n      <td>Analgesic</td>\n    </tr>\n    <tr>\n      <th>...</th>\n      <td>...</td>\n      <td>...</td>\n      <td>...</td>\n      <td>...</td>\n      <td>...</td>\n    </tr>\n    <tr>\n      <th>619071</th>\n      <td>78759</td>\n      <td>126120</td>\n      <td>Doxorubicin</td>\n      <td>Zinnia grandiflora</td>\n      <td>Analgesic</td>\n    </tr>\n    <tr>\n      <th>619072</th>\n      <td>78759</td>\n      <td>126129</td>\n      <td>Doxorubicin</td>\n      <td>Zinnia grandiflora</td>\n      <td>Analgesic</td>\n    </tr>\n    <tr>\n      <th>619073</th>\n      <td>78759</td>\n      <td>126141</td>\n      <td>Doxorubicin</td>\n      <td>Zinnia grandiflora</td>\n      <td>Analgesic</td>\n    </tr>\n    <tr>\n      <th>619074</th>\n      <td>78759</td>\n      <td>126148</td>\n      <td>Doxorubicin</td>\n      <td>Zinnia grandiflora</td>\n      <td>Analgesic</td>\n    </tr>\n    <tr>\n      <th>619075</th>\n      <td>78759</td>\n      <td>126186</td>\n      <td>doxorubicin</td>\n      <td>Zinnia grandiflora</td>\n      <td>Analgesic</td>\n    </tr>\n  </tbody>\n</table>\n<p>619076 rows × 5 columns</p>\n</div>"
     },
     "execution_count": 10,
     "metadata": {},
     "output_type": "execute_result"
    }
   ],
   "source": [
    "sql = \"\"\"\n",
    "SELECT cr.molregno, cr.doc_id, cr.compound_name, d.species_name, d.usage_name\n",
    "FROM (\n",
    "    SELECT ch.chembl_id, ch.entity_type, ch.entity_id, d.species_name, d.usage_name\n",
    "    FROM (\n",
    "        SELECT c.chembl_id, c.np_id, c.pref_name as compound_name, d.species_name, d.usage_name\n",
    "        FROM (\n",
    "            SELECT np.np_id, d.species_name, d.usage_name\n",
    "            FROM (\n",
    "                SELECT u.usage_name, s.species_name as species_name\n",
    "                FROM usage u\n",
    "                JOIN species s\n",
    "                ON u.species_id = s.species_id\n",
    "                where u.usage_name = 'Analgesic'\n",
    "            ) AS d\n",
    "            JOIN natural_product np\n",
    "            ON d.species_name = np.species_name\n",
    "        ) AS d\n",
    "        JOIN compound c\n",
    "        ON d.np_id = c.np_id\n",
    "    ) AS d\n",
    "    JOIN CHEMBL_ID_LOOKUP ch\n",
    "    ON d.chembl_id = ch.chembl_id\n",
    ") AS d\n",
    "JOIN COMPOUND_RECORDS cr\n",
    "ON d.entity_id = cr.molregno\n",
    "\"\"\"\n",
    "pd.read_sql_query(sql, engine)"
   ],
   "metadata": {
    "collapsed": false,
    "ExecuteTime": {
     "end_time": "2024-06-10T13:44:15.302432Z",
     "start_time": "2024-06-10T13:44:04.364537Z"
    }
   },
   "id": "5eb73750171ad0f0",
   "execution_count": 10
  },
  {
   "cell_type": "markdown",
   "source": [
    "## Extract the targets related to the species name with Analgesic usage"
   ],
   "metadata": {
    "collapsed": false
   },
   "id": "a8160e58f4db29a"
  },
  {
   "cell_type": "code",
   "outputs": [
    {
     "data": {
      "text/plain": "                target_type                                       target_name  \\\n0        Individual Protein  Peroxisome proliferator-activated receptor delta   \n1                 Cell Line                                              A549   \n2             NON-MOLECULAR                                NON-PROTEIN TARGET   \n3                    Others                                       Unspecified   \n4                 CELL-LINE                                    DLKP cell line   \n...                     ...                                               ...   \n2250269           Cell Line                                              MCF7   \n2250270           Cell Line                                        MIA PaCa-2   \n2250271           Cell Line                                          NCI-H460   \n2250272           Cell Line                                            SF-268   \n2250273              Others                                       Unspecified   \n\n               species_name usage_name  \n0            Abies balsamea  Analgesic  \n1            Abies balsamea  Analgesic  \n2            Abies balsamea  Analgesic  \n3            Abies balsamea  Analgesic  \n4            Abies balsamea  Analgesic  \n...                     ...        ...  \n2250269  Zinnia grandiflora  Analgesic  \n2250270  Zinnia grandiflora  Analgesic  \n2250271  Zinnia grandiflora  Analgesic  \n2250272  Zinnia grandiflora  Analgesic  \n2250273  Zinnia grandiflora  Analgesic  \n\n[2250274 rows x 4 columns]",
      "text/html": "<div>\n<style scoped>\n    .dataframe tbody tr th:only-of-type {\n        vertical-align: middle;\n    }\n\n    .dataframe tbody tr th {\n        vertical-align: top;\n    }\n\n    .dataframe thead th {\n        text-align: right;\n    }\n</style>\n<table border=\"1\" class=\"dataframe\">\n  <thead>\n    <tr style=\"text-align: right;\">\n      <th></th>\n      <th>target_type</th>\n      <th>target_name</th>\n      <th>species_name</th>\n      <th>usage_name</th>\n    </tr>\n  </thead>\n  <tbody>\n    <tr>\n      <th>0</th>\n      <td>Individual Protein</td>\n      <td>Peroxisome proliferator-activated receptor delta</td>\n      <td>Abies balsamea</td>\n      <td>Analgesic</td>\n    </tr>\n    <tr>\n      <th>1</th>\n      <td>Cell Line</td>\n      <td>A549</td>\n      <td>Abies balsamea</td>\n      <td>Analgesic</td>\n    </tr>\n    <tr>\n      <th>2</th>\n      <td>NON-MOLECULAR</td>\n      <td>NON-PROTEIN TARGET</td>\n      <td>Abies balsamea</td>\n      <td>Analgesic</td>\n    </tr>\n    <tr>\n      <th>3</th>\n      <td>Others</td>\n      <td>Unspecified</td>\n      <td>Abies balsamea</td>\n      <td>Analgesic</td>\n    </tr>\n    <tr>\n      <th>4</th>\n      <td>CELL-LINE</td>\n      <td>DLKP cell line</td>\n      <td>Abies balsamea</td>\n      <td>Analgesic</td>\n    </tr>\n    <tr>\n      <th>...</th>\n      <td>...</td>\n      <td>...</td>\n      <td>...</td>\n      <td>...</td>\n    </tr>\n    <tr>\n      <th>2250269</th>\n      <td>Cell Line</td>\n      <td>MCF7</td>\n      <td>Zinnia grandiflora</td>\n      <td>Analgesic</td>\n    </tr>\n    <tr>\n      <th>2250270</th>\n      <td>Cell Line</td>\n      <td>MIA PaCa-2</td>\n      <td>Zinnia grandiflora</td>\n      <td>Analgesic</td>\n    </tr>\n    <tr>\n      <th>2250271</th>\n      <td>Cell Line</td>\n      <td>NCI-H460</td>\n      <td>Zinnia grandiflora</td>\n      <td>Analgesic</td>\n    </tr>\n    <tr>\n      <th>2250272</th>\n      <td>Cell Line</td>\n      <td>SF-268</td>\n      <td>Zinnia grandiflora</td>\n      <td>Analgesic</td>\n    </tr>\n    <tr>\n      <th>2250273</th>\n      <td>Others</td>\n      <td>Unspecified</td>\n      <td>Zinnia grandiflora</td>\n      <td>Analgesic</td>\n    </tr>\n  </tbody>\n</table>\n<p>2250274 rows × 4 columns</p>\n</div>"
     },
     "execution_count": 11,
     "metadata": {},
     "output_type": "execute_result"
    }
   ],
   "source": [
    "sql = \"\"\"\n",
    "SELECT t.target_type, t.target_name, dr.species_name, dr.usage_name\n",
    "FROM (\n",
    "    SELECT np.np_id, d.species_name, d.usage_name\n",
    "    FROM (\n",
    "        SELECT u.usage_name, s.species_name as species_name\n",
    "        FROM usage u\n",
    "        JOIN species s\n",
    "        ON u.species_id = s.species_id\n",
    "        where u.usage_name = 'Analgesic'\n",
    "    ) AS d\n",
    "    JOIN natural_product np\n",
    "    ON d.species_name = np.species_name\n",
    ") AS dr\n",
    "JOIN target t\n",
    "ON dr.np_id = t.np_id\n",
    "\"\"\"\n",
    "# group by species_name and list the unique target type for each species name:\n",
    "targets = pd.read_sql_query(sql, engine)\n",
    "targets"
   ],
   "metadata": {
    "collapsed": false,
    "ExecuteTime": {
     "end_time": "2024-06-10T13:44:23.552627Z",
     "start_time": "2024-06-10T13:44:18.987522Z"
    }
   },
   "id": "163ff48233aea6f9",
   "execution_count": 11
  },
  {
   "cell_type": "code",
   "outputs": [
    {
     "data": {
      "text/plain": "species_name\nAbies balsamea                   [Individual Protein, Cell Line, NON-MOLECULAR,...\nAbies lasiocarpa                 [CELL-LINE, Cell Line, Individual Protein, NON...\nAcamptopappus sphaerocephalus                                   [Organism, Others]\nAcer rubrum                      [Others, CELL-LINE, Cell Line, Individual Prot...\nAcer saccharinum                 [CELL-LINE, Cell Line, Individual Protein, ORG...\n                                                       ...                        \nXanthorhiza simplicissima        [Cell Line, Organism, Others, CELL-LINE, Indiv...\nZanthoxylum americanum           [Cell Line, Individual Protein, NON-MOLECULAR,...\nZea mays                         [Cell Line, Individual Protein, NON-MOLECULAR,...\nZingiber zerumbet                [Cell Line, Individual Protein, NON-MOLECULAR,...\nZinnia grandiflora               [CELL-LINE, Cell Line, Individual Protein, NON...\nName: target_type, Length: 262, dtype: object"
     },
     "execution_count": 12,
     "metadata": {},
     "output_type": "execute_result"
    }
   ],
   "source": [
    "targets.groupby('species_name')['target_type'].unique()"
   ],
   "metadata": {
    "collapsed": false,
    "ExecuteTime": {
     "end_time": "2024-06-10T13:44:28.111831Z",
     "start_time": "2024-06-10T13:44:27.833105Z"
    }
   },
   "id": "e7b7e100054b44ba",
   "execution_count": 12
  },
  {
   "cell_type": "code",
   "outputs": [],
   "source": [],
   "metadata": {
    "collapsed": false
   },
   "id": "9a86727600c5d8b8"
  }
 ],
 "metadata": {
  "kernelspec": {
   "display_name": "Python 3",
   "language": "python",
   "name": "python3"
  },
  "language_info": {
   "codemirror_mode": {
    "name": "ipython",
    "version": 2
   },
   "file_extension": ".py",
   "mimetype": "text/x-python",
   "name": "python",
   "nbconvert_exporter": "python",
   "pygments_lexer": "ipython2",
   "version": "2.7.6"
  }
 },
 "nbformat": 4,
 "nbformat_minor": 5
}
