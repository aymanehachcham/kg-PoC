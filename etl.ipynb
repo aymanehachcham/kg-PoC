{
 "cells": [
  {
   "cell_type": "code",
   "execution_count": 1,
   "id": "initial_id",
   "metadata": {
    "collapsed": true,
    "ExecuteTime": {
     "end_time": "2024-06-09T13:42:39.446474Z",
     "start_time": "2024-06-09T13:42:38.907893Z"
    }
   },
   "outputs": [
    {
     "name": "stderr",
     "output_type": "stream",
     "text": [
      "Extracting NPASS Datasets...: 100%|██████████| 5/5 [00:00<00:00, 40960.00it/s]\n",
      "2024-06-09 15:42:39,440 - INFO - npass - extract - Data extracted successfully.\n"
     ]
    }
   ],
   "source": [
    "from kg_poc.etl.npass import NPASSETL\n",
    "from pathlib import Path\n",
    "\n",
    "npass_etl = NPASSETL(\n",
    "    db_path=Path('datasets/test.db'),\n",
    ")\n",
    "npass_etl.extract(raw_data_path=Path('datasets/npass/'))"
   ]
  },
  {
   "cell_type": "code",
   "outputs": [
    {
     "name": "stdout",
     "output_type": "stream",
     "text": [
      "{'NPASS_targets_activity': 'datasets/npass/NPASS_targets_activity.txt', 'NPASS_compound_names': 'datasets/npass/NPASS_compound_names.txt', 'NPASS_natural_product_species': 'datasets/npass/NPASS_natural_product_species.txt', 'NPASS_target_name': 'datasets/npass/NPASS_target_name.txt', 'NPASS_taxonomy_species': 'datasets/npass/NPASS_taxonomy_species.txt'}\n"
     ]
    }
   ],
   "source": [
    "print(npass_etl.table_names)"
   ],
   "metadata": {
    "collapsed": false,
    "ExecuteTime": {
     "end_time": "2024-06-09T13:42:49.337972Z",
     "start_time": "2024-06-09T13:42:49.334732Z"
    }
   },
   "id": "df8563ddccd50c83",
   "execution_count": 3
  },
  {
   "cell_type": "code",
   "outputs": [],
   "source": [],
   "metadata": {
    "collapsed": false
   },
   "id": "b35c0e3f7034c6bb"
  }
 ],
 "metadata": {
  "kernelspec": {
   "display_name": "Python 3",
   "language": "python",
   "name": "python3"
  },
  "language_info": {
   "codemirror_mode": {
    "name": "ipython",
    "version": 2
   },
   "file_extension": ".py",
   "mimetype": "text/x-python",
   "name": "python",
   "nbconvert_exporter": "python",
   "pygments_lexer": "ipython2",
   "version": "2.7.6"
  }
 },
 "nbformat": 4,
 "nbformat_minor": 5
}
